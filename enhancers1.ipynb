{
 "cells": [
  {
   "cell_type": "code",
   "execution_count": 16,
   "metadata": {},
   "outputs": [],
   "source": [
    "import numpy as np\n",
    "import pandas as pd\n",
    "import itertools\n",
    "from Bio import SeqIO\n",
    "from tqdm.auto import tqdm"
   ]
  },
  {
   "attachments": {},
   "cell_type": "markdown",
   "metadata": {},
   "source": [
    "## Wczytanie i przygotowanie danych"
   ]
  },
  {
   "attachments": {},
   "cell_type": "markdown",
   "metadata": {},
   "source": [
    "### Pliki `.bed`"
   ]
  },
  {
   "cell_type": "code",
   "execution_count": 17,
   "metadata": {},
   "outputs": [],
   "source": [
    "negative_set = pd.read_csv('negative_set.bed', delimiter='\\t', header=None, names=[\"Chromosome\", \"StartPos\", \"EndPos\"])\n",
    "positive_set = pd.read_csv('GM12878.bed', delimiter='\\t', header=None, names=[\"Chromosome\", \"StartPos\", \"EndPos\", \"Score\"])"
   ]
  },
  {
   "cell_type": "code",
   "execution_count": 18,
   "metadata": {},
   "outputs": [
    {
     "data": {
      "text/html": [
       "<div>\n",
       "<style scoped>\n",
       "    .dataframe tbody tr th:only-of-type {\n",
       "        vertical-align: middle;\n",
       "    }\n",
       "\n",
       "    .dataframe tbody tr th {\n",
       "        vertical-align: top;\n",
       "    }\n",
       "\n",
       "    .dataframe thead th {\n",
       "        text-align: right;\n",
       "    }\n",
       "</style>\n",
       "<table border=\"1\" class=\"dataframe\">\n",
       "  <thead>\n",
       "    <tr style=\"text-align: right;\">\n",
       "      <th></th>\n",
       "      <th>Chromosome</th>\n",
       "      <th>StartPos</th>\n",
       "      <th>EndPos</th>\n",
       "    </tr>\n",
       "  </thead>\n",
       "  <tbody>\n",
       "    <tr>\n",
       "      <th>0</th>\n",
       "      <td>chr10</td>\n",
       "      <td>32251</td>\n",
       "      <td>36771</td>\n",
       "    </tr>\n",
       "    <tr>\n",
       "      <th>1</th>\n",
       "      <td>chr10</td>\n",
       "      <td>39431</td>\n",
       "      <td>39891</td>\n",
       "    </tr>\n",
       "    <tr>\n",
       "      <th>2</th>\n",
       "      <td>chr10</td>\n",
       "      <td>72312</td>\n",
       "      <td>74222</td>\n",
       "    </tr>\n",
       "    <tr>\n",
       "      <th>3</th>\n",
       "      <td>chr10</td>\n",
       "      <td>84717</td>\n",
       "      <td>85177</td>\n",
       "    </tr>\n",
       "    <tr>\n",
       "      <th>4</th>\n",
       "      <td>chr10</td>\n",
       "      <td>90499</td>\n",
       "      <td>91949</td>\n",
       "    </tr>\n",
       "  </tbody>\n",
       "</table>\n",
       "</div>"
      ],
      "text/plain": [
       "  Chromosome  StartPos  EndPos\n",
       "0      chr10     32251   36771\n",
       "1      chr10     39431   39891\n",
       "2      chr10     72312   74222\n",
       "3      chr10     84717   85177\n",
       "4      chr10     90499   91949"
      ]
     },
     "execution_count": 18,
     "metadata": {},
     "output_type": "execute_result"
    }
   ],
   "source": [
    "negative_set.head(5)"
   ]
  },
  {
   "cell_type": "code",
   "execution_count": 19,
   "metadata": {},
   "outputs": [
    {
     "data": {
      "text/html": [
       "<div>\n",
       "<style scoped>\n",
       "    .dataframe tbody tr th:only-of-type {\n",
       "        vertical-align: middle;\n",
       "    }\n",
       "\n",
       "    .dataframe tbody tr th {\n",
       "        vertical-align: top;\n",
       "    }\n",
       "\n",
       "    .dataframe thead th {\n",
       "        text-align: right;\n",
       "    }\n",
       "</style>\n",
       "<table border=\"1\" class=\"dataframe\">\n",
       "  <thead>\n",
       "    <tr style=\"text-align: right;\">\n",
       "      <th></th>\n",
       "      <th>Chromosome</th>\n",
       "      <th>StartPos</th>\n",
       "      <th>EndPos</th>\n",
       "      <th>Score</th>\n",
       "    </tr>\n",
       "  </thead>\n",
       "  <tbody>\n",
       "    <tr>\n",
       "      <th>0</th>\n",
       "      <td>chr1</td>\n",
       "      <td>773300</td>\n",
       "      <td>774100</td>\n",
       "      <td>7.866088</td>\n",
       "    </tr>\n",
       "    <tr>\n",
       "      <th>1</th>\n",
       "      <td>chr1</td>\n",
       "      <td>778980</td>\n",
       "      <td>779450</td>\n",
       "      <td>6.472419</td>\n",
       "    </tr>\n",
       "    <tr>\n",
       "      <th>2</th>\n",
       "      <td>chr1</td>\n",
       "      <td>800100</td>\n",
       "      <td>802000</td>\n",
       "      <td>11.010675</td>\n",
       "    </tr>\n",
       "    <tr>\n",
       "      <th>3</th>\n",
       "      <td>chr1</td>\n",
       "      <td>825670</td>\n",
       "      <td>826410</td>\n",
       "      <td>6.114487</td>\n",
       "    </tr>\n",
       "    <tr>\n",
       "      <th>4</th>\n",
       "      <td>chr1</td>\n",
       "      <td>839470</td>\n",
       "      <td>842590</td>\n",
       "      <td>8.848865</td>\n",
       "    </tr>\n",
       "  </tbody>\n",
       "</table>\n",
       "</div>"
      ],
      "text/plain": [
       "  Chromosome  StartPos  EndPos      Score\n",
       "0       chr1    773300  774100   7.866088\n",
       "1       chr1    778980  779450   6.472419\n",
       "2       chr1    800100  802000  11.010675\n",
       "3       chr1    825670  826410   6.114487\n",
       "4       chr1    839470  842590   8.848865"
      ]
     },
     "execution_count": 19,
     "metadata": {},
     "output_type": "execute_result"
    }
   ],
   "source": [
    "positive_set.head(5)"
   ]
  },
  {
   "cell_type": "code",
   "execution_count": 20,
   "metadata": {},
   "outputs": [],
   "source": [
    "# dodanie etykiety do zbiorów\n",
    "negative_set[\"IsEnhancer\"] = 0\n",
    "positive_set[\"IsEnhancer\"] = 1\n",
    "\n",
    "positive_set = positive_set.drop(columns=\"Score\")"
   ]
  },
  {
   "cell_type": "code",
   "execution_count": 21,
   "metadata": {},
   "outputs": [],
   "source": [
    "# połączenie zbiorów danych\n",
    "total_set = pd.concat([negative_set, positive_set])\n",
    "\n",
    "# usunięcie nieprawidłowych chromosomów\n",
    "total_set = total_set.loc[total_set[\"Chromosome\"].str.match(r\"chr\\d+\")]\n",
    "\n",
    "total_set = total_set.reset_index(drop=True)"
   ]
  },
  {
   "attachments": {},
   "cell_type": "markdown",
   "metadata": {},
   "source": [
    "### Plik `.fasta`"
   ]
  },
  {
   "cell_type": "code",
   "execution_count": 22,
   "metadata": {},
   "outputs": [],
   "source": [
    "# odczyt pliku za pomocą biblioteki biopython\n",
    "\n",
    "fasta_sequences = {}\n",
    "\n",
    "with open(\"GRCh37.primary_assembly.genome.fa\", \"r\") as handle:\n",
    "    for record in SeqIO.parse(handle, \"fasta\"):\n",
    "        fasta_sequences[record.id] = record.seq"
   ]
  },
  {
   "cell_type": "code",
   "execution_count": 23,
   "metadata": {},
   "outputs": [
    {
     "data": {
      "text/plain": [
       "['chr1', 'chr10', 'chr11', 'chr12', 'chr13']"
      ]
     },
     "execution_count": 23,
     "metadata": {},
     "output_type": "execute_result"
    }
   ],
   "source": [
    "# mamy podział na chromosomy\n",
    "list(fasta_sequences.keys())[:5]"
   ]
  },
  {
   "cell_type": "code",
   "execution_count": 24,
   "metadata": {},
   "outputs": [
    {
     "data": {
      "text/plain": [
       "Seq('NNNNNNNNNNNNNNNNNNNNNNNNNNNNNNNNNNNNNNNNNNNNNNNNNNNNNN...NNN')"
      ]
     },
     "execution_count": 24,
     "metadata": {},
     "output_type": "execute_result"
    }
   ],
   "source": [
    "# w każdym chromosomie mamy sekwencję DNA\n",
    "fasta_sequences[\"chr1\"]"
   ]
  },
  {
   "cell_type": "code",
   "execution_count": 25,
   "metadata": {},
   "outputs": [],
   "source": [
    "# na podstawie danych z plików .bed\n",
    "# wybieramy odpowiednie fragmenty DNA (chromosom, pozycja początkowa i końcowa)\n",
    "\n",
    "dna_sequence_list = []\n",
    "\n",
    "for index, data in total_set.iterrows():\n",
    "    chromosome = data[\"Chromosome\"]\n",
    "    start_pos = data[\"StartPos\"]\n",
    "    end_pos = data[\"EndPos\"]\n",
    "    dna_sequence = str(fasta_sequences[chromosome][start_pos:end_pos])\n",
    "    dna_sequence_list.append(dna_sequence)\n",
    "\n",
    "total_set[\"DNA sequence\"] = dna_sequence_list"
   ]
  },
  {
   "cell_type": "code",
   "execution_count": 26,
   "metadata": {},
   "outputs": [
    {
     "data": {
      "text/html": [
       "<div>\n",
       "<style scoped>\n",
       "    .dataframe tbody tr th:only-of-type {\n",
       "        vertical-align: middle;\n",
       "    }\n",
       "\n",
       "    .dataframe tbody tr th {\n",
       "        vertical-align: top;\n",
       "    }\n",
       "\n",
       "    .dataframe thead th {\n",
       "        text-align: right;\n",
       "    }\n",
       "</style>\n",
       "<table border=\"1\" class=\"dataframe\">\n",
       "  <thead>\n",
       "    <tr style=\"text-align: right;\">\n",
       "      <th></th>\n",
       "      <th>Chromosome</th>\n",
       "      <th>StartPos</th>\n",
       "      <th>EndPos</th>\n",
       "      <th>IsEnhancer</th>\n",
       "      <th>DNA sequence</th>\n",
       "    </tr>\n",
       "  </thead>\n",
       "  <tbody>\n",
       "    <tr>\n",
       "      <th>0</th>\n",
       "      <td>chr10</td>\n",
       "      <td>32251</td>\n",
       "      <td>36771</td>\n",
       "      <td>0</td>\n",
       "      <td>NNNNNNNNNNNNNNNNNNNNNNNNNNNNNNNNNNNNNNNNNNNNNN...</td>\n",
       "    </tr>\n",
       "    <tr>\n",
       "      <th>1</th>\n",
       "      <td>chr10</td>\n",
       "      <td>39431</td>\n",
       "      <td>39891</td>\n",
       "      <td>0</td>\n",
       "      <td>NNNNNNNNNNNNNNNNNNNNNNNNNNNNNNNNNNNNNNNNNNNNNN...</td>\n",
       "    </tr>\n",
       "    <tr>\n",
       "      <th>2</th>\n",
       "      <td>chr10</td>\n",
       "      <td>72312</td>\n",
       "      <td>74222</td>\n",
       "      <td>0</td>\n",
       "      <td>CTGCCACCGTGCCTGGCTAATTTCTGTATTTTTAGTAGAGAGGGGG...</td>\n",
       "    </tr>\n",
       "    <tr>\n",
       "      <th>3</th>\n",
       "      <td>chr10</td>\n",
       "      <td>84717</td>\n",
       "      <td>85177</td>\n",
       "      <td>0</td>\n",
       "      <td>AGAAGTTGAATCTCTGAATAGACCAATAACAGGATCTGAAATTGTG...</td>\n",
       "    </tr>\n",
       "    <tr>\n",
       "      <th>4</th>\n",
       "      <td>chr10</td>\n",
       "      <td>90499</td>\n",
       "      <td>91949</td>\n",
       "      <td>0</td>\n",
       "      <td>AGGTCAGGTGATCTGCAGCCAACCAAGCAGCTGCTAAGTGGCCAAC...</td>\n",
       "    </tr>\n",
       "  </tbody>\n",
       "</table>\n",
       "</div>"
      ],
      "text/plain": [
       "  Chromosome  StartPos  EndPos  IsEnhancer  \\\n",
       "0      chr10     32251   36771           0   \n",
       "1      chr10     39431   39891           0   \n",
       "2      chr10     72312   74222           0   \n",
       "3      chr10     84717   85177           0   \n",
       "4      chr10     90499   91949           0   \n",
       "\n",
       "                                        DNA sequence  \n",
       "0  NNNNNNNNNNNNNNNNNNNNNNNNNNNNNNNNNNNNNNNNNNNNNN...  \n",
       "1  NNNNNNNNNNNNNNNNNNNNNNNNNNNNNNNNNNNNNNNNNNNNNN...  \n",
       "2  CTGCCACCGTGCCTGGCTAATTTCTGTATTTTTAGTAGAGAGGGGG...  \n",
       "3  AGAAGTTGAATCTCTGAATAGACCAATAACAGGATCTGAAATTGTG...  \n",
       "4  AGGTCAGGTGATCTGCAGCCAACCAAGCAGCTGCTAAGTGGCCAAC...  "
      ]
     },
     "execution_count": 26,
     "metadata": {},
     "output_type": "execute_result"
    }
   ],
   "source": [
    "total_set.head(5)"
   ]
  },
  {
   "cell_type": "code",
   "execution_count": 27,
   "metadata": {},
   "outputs": [],
   "source": [
    "# usuwanie rekordów z 'N' w sekwencji DNA\n",
    "total_set = total_set[~total_set[\"DNA sequence\"].str.contains(\"N\")]"
   ]
  },
  {
   "attachments": {},
   "cell_type": "markdown",
   "metadata": {},
   "source": [
    "### k-mery"
   ]
  },
  {
   "cell_type": "code",
   "execution_count": 28,
   "metadata": {},
   "outputs": [],
   "source": [
    "# funkcja do zliczenia k-merów w sekwencji DNA\n",
    "# dla całej ramki total_set\n",
    "# i do zapisu zliczonych częstości do pliku\n",
    "def count_and_save_kmers(k):\n",
    "\n",
    "    # lista wszystkich k-merów\n",
    "    kmers = [''.join(kmer_tuple) for kmer_tuple in itertools.product('ACTG', repeat=k)]\n",
    "\n",
    "    # funkcja do odwracania k-merów\n",
    "    def reverse_kmer(seq: str):\n",
    "        mapping = {\n",
    "            \"A\": \"T\",\n",
    "            \"T\": \"A\",\n",
    "            \"C\": \"G\",\n",
    "            \"G\": \"C\",\n",
    "        }\n",
    "        return \"\".join([mapping[s] for s in seq[::-1]])\n",
    "\n",
    "    # lista unikalnych k-merów, które (i których odwrócenia) będziemy zliczać\n",
    "    # dla k=4 liczy 136 elementów\n",
    "    unique_kmers = []\n",
    "    for kmer in kmers:\n",
    "        reversed_kmer = reverse_kmer(kmer)\n",
    "        if kmer not in unique_kmers and reversed_kmer not in unique_kmers:\n",
    "            unique_kmers.append(kmer)\n",
    "\n",
    "    # słownik do zliczania k-merów\n",
    "    kmers_counts = {kmer: pd.Series(index=total_set.index, data=0) for kmer in unique_kmers}\n",
    "\n",
    "    # zliczamy k-mery\n",
    "    for kmer in tqdm(kmers):\n",
    "        if kmer in unique_kmers:  \n",
    "            kmers_counts[kmer] += total_set[\"DNA sequence\"].str.count(kmer)\n",
    "        else:\n",
    "            reversed_kmer = reverse_kmer(kmer)\n",
    "            kmers_counts[reversed_kmer] = total_set[\"DNA sequence\"].str.count(kmer)\n",
    "\n",
    "    # łączymy częstości w ramkę danych\n",
    "    kmers_counts_df = pd.concat(kmers_counts, axis=1).round(6)\n",
    "\n",
    "    # dzielimy przez długość sekwencji\n",
    "    kmers_counts_df = kmers_counts_df.div(total_set[\"DNA sequence\"].str.len(), axis=0)\n",
    "\n",
    "    # łączymy z pierwotną ramką total_set i zapisujemy do pliku \n",
    "    total_set_with_kmers = pd.concat([total_set, kmers_counts_df], axis=1)\n",
    "    (\n",
    "        total_set_with_kmers\n",
    "            .drop(columns=[\"StartPos\", \"EndPos\", \"DNA sequence\"])\n",
    "            .to_parquet(f\"total_set_k_mers/total_set_{k}_mer.gzip\", compression=\"gzip\", index=False)\n",
    "    )"
   ]
  },
  {
   "cell_type": "code",
   "execution_count": null,
   "metadata": {},
   "outputs": [],
   "source": [
    "# zliczamy częstości k-merów dla kilku wybranych k\n",
    "\n",
    "# for k in [2, 3, 4, 5]:\n",
    "#     count_and_save_kmers(k)"
   ]
  },
  {
   "attachments": {},
   "cell_type": "markdown",
   "metadata": {},
   "source": [
    "## Przygotowanie klasyfikatora\n",
    "\n",
    "### Wczytanie zbiorów z policzonymi częstościami k-merów"
   ]
  },
  {
   "cell_type": "code",
   "execution_count": 32,
   "metadata": {},
   "outputs": [],
   "source": [
    "# wczytanie i podział na zbiory treningowy i testowy\n",
    "\n",
    "k = 5\n",
    "total_set = pd.read_parquet(f\"total_set_k_mers/total_set_{k}_mer.gzip\")\n",
    "\n",
    "test_set = total_set.loc[total_set[\"Chromosome\"].isin([\"chr1\", \"chr14\", \"chr21\"])]\n",
    "test_set_X = test_set.drop(columns=[\"Chromosome\", \"IsEnhancer\"])\n",
    "test_set_Y = test_set[\"IsEnhancer\"]\n",
    "\n",
    "trening_set = total_set.loc[~total_set[\"Chromosome\"].isin([\"chr1\", \"chr14\", \"chr21\"])]\n",
    "trening_set_X = trening_set.drop(columns=[\"Chromosome\", \"IsEnhancer\"])\n",
    "trening_set_Y = trening_set[\"IsEnhancer\"]"
   ]
  }
 ],
 "metadata": {
  "kernelspec": {
   "display_name": "py310",
   "language": "python",
   "name": "python3"
  },
  "language_info": {
   "codemirror_mode": {
    "name": "ipython",
    "version": 3
   },
   "file_extension": ".py",
   "mimetype": "text/x-python",
   "name": "python",
   "nbconvert_exporter": "python",
   "pygments_lexer": "ipython3",
   "version": "3.8.8"
  },
  "orig_nbformat": 4
 },
 "nbformat": 4,
 "nbformat_minor": 2
}
