{
 "cells": [
  {
   "cell_type": "code",
   "execution_count": 150,
   "metadata": {},
   "outputs": [],
   "source": [
    "import numpy as np\n",
    "import pandas as pd\n",
    "import itertools\n",
    "from Bio import SeqIO\n",
    "from tqdm.auto import tqdm\n",
    "\n",
    "from sklearn.metrics import accuracy_score, precision_score\n",
    "from sklearn.metrics import roc_auc_score\n",
    "from sklearn.model_selection import cross_validate\n",
    "from sklearn.model_selection import GridSearchCV, RandomizedSearchCV\n",
    "from sklearn.ensemble import RandomForestClassifier\n",
    "from sklearn.metrics import roc_curve\n",
    "from sklearn.metrics import classification_report\n",
    "\n",
    "from matplotlib import pyplot as plt\n",
    "import seaborn as sns\n",
    "from sklearn.model_selection import train_test_split"
   ]
  },
  {
   "cell_type": "markdown",
   "metadata": {},
   "source": [
    "## Wczytanie i przygotowanie danych"
   ]
  },
  {
   "cell_type": "markdown",
   "metadata": {},
   "source": [
    "### Pliki `.bed`"
   ]
  },
  {
   "cell_type": "code",
   "execution_count": 2,
   "metadata": {},
   "outputs": [],
   "source": [
    "negative_set = pd.read_csv('negative_set.bed', delimiter='\\t', header=None, names=[\"Chromosome\", \"StartPos\", \"EndPos\"])\n",
    "positive_set = pd.read_csv('GM12878.bed', delimiter='\\t', header=None, names=[\"Chromosome\", \"StartPos\", \"EndPos\", \"Score\"])"
   ]
  },
  {
   "cell_type": "code",
   "execution_count": 3,
   "metadata": {},
   "outputs": [
    {
     "data": {
      "text/html": [
       "<div>\n",
       "<style scoped>\n",
       "    .dataframe tbody tr th:only-of-type {\n",
       "        vertical-align: middle;\n",
       "    }\n",
       "\n",
       "    .dataframe tbody tr th {\n",
       "        vertical-align: top;\n",
       "    }\n",
       "\n",
       "    .dataframe thead th {\n",
       "        text-align: right;\n",
       "    }\n",
       "</style>\n",
       "<table border=\"1\" class=\"dataframe\">\n",
       "  <thead>\n",
       "    <tr style=\"text-align: right;\">\n",
       "      <th></th>\n",
       "      <th>Chromosome</th>\n",
       "      <th>StartPos</th>\n",
       "      <th>EndPos</th>\n",
       "    </tr>\n",
       "  </thead>\n",
       "  <tbody>\n",
       "    <tr>\n",
       "      <th>0</th>\n",
       "      <td>chr10</td>\n",
       "      <td>32251</td>\n",
       "      <td>36771</td>\n",
       "    </tr>\n",
       "    <tr>\n",
       "      <th>1</th>\n",
       "      <td>chr10</td>\n",
       "      <td>39431</td>\n",
       "      <td>39891</td>\n",
       "    </tr>\n",
       "    <tr>\n",
       "      <th>2</th>\n",
       "      <td>chr10</td>\n",
       "      <td>72312</td>\n",
       "      <td>74222</td>\n",
       "    </tr>\n",
       "    <tr>\n",
       "      <th>3</th>\n",
       "      <td>chr10</td>\n",
       "      <td>84717</td>\n",
       "      <td>85177</td>\n",
       "    </tr>\n",
       "    <tr>\n",
       "      <th>4</th>\n",
       "      <td>chr10</td>\n",
       "      <td>90499</td>\n",
       "      <td>91949</td>\n",
       "    </tr>\n",
       "  </tbody>\n",
       "</table>\n",
       "</div>"
      ],
      "text/plain": [
       "  Chromosome  StartPos  EndPos\n",
       "0      chr10     32251   36771\n",
       "1      chr10     39431   39891\n",
       "2      chr10     72312   74222\n",
       "3      chr10     84717   85177\n",
       "4      chr10     90499   91949"
      ]
     },
     "execution_count": 3,
     "metadata": {},
     "output_type": "execute_result"
    }
   ],
   "source": [
    "negative_set.head(5)"
   ]
  },
  {
   "cell_type": "code",
   "execution_count": 4,
   "metadata": {},
   "outputs": [
    {
     "data": {
      "text/html": [
       "<div>\n",
       "<style scoped>\n",
       "    .dataframe tbody tr th:only-of-type {\n",
       "        vertical-align: middle;\n",
       "    }\n",
       "\n",
       "    .dataframe tbody tr th {\n",
       "        vertical-align: top;\n",
       "    }\n",
       "\n",
       "    .dataframe thead th {\n",
       "        text-align: right;\n",
       "    }\n",
       "</style>\n",
       "<table border=\"1\" class=\"dataframe\">\n",
       "  <thead>\n",
       "    <tr style=\"text-align: right;\">\n",
       "      <th></th>\n",
       "      <th>Chromosome</th>\n",
       "      <th>StartPos</th>\n",
       "      <th>EndPos</th>\n",
       "      <th>Score</th>\n",
       "    </tr>\n",
       "  </thead>\n",
       "  <tbody>\n",
       "    <tr>\n",
       "      <th>0</th>\n",
       "      <td>chr1</td>\n",
       "      <td>773300</td>\n",
       "      <td>774100</td>\n",
       "      <td>7.866088</td>\n",
       "    </tr>\n",
       "    <tr>\n",
       "      <th>1</th>\n",
       "      <td>chr1</td>\n",
       "      <td>778980</td>\n",
       "      <td>779450</td>\n",
       "      <td>6.472419</td>\n",
       "    </tr>\n",
       "    <tr>\n",
       "      <th>2</th>\n",
       "      <td>chr1</td>\n",
       "      <td>800100</td>\n",
       "      <td>802000</td>\n",
       "      <td>11.010675</td>\n",
       "    </tr>\n",
       "    <tr>\n",
       "      <th>3</th>\n",
       "      <td>chr1</td>\n",
       "      <td>825670</td>\n",
       "      <td>826410</td>\n",
       "      <td>6.114487</td>\n",
       "    </tr>\n",
       "    <tr>\n",
       "      <th>4</th>\n",
       "      <td>chr1</td>\n",
       "      <td>839470</td>\n",
       "      <td>842590</td>\n",
       "      <td>8.848865</td>\n",
       "    </tr>\n",
       "  </tbody>\n",
       "</table>\n",
       "</div>"
      ],
      "text/plain": [
       "  Chromosome  StartPos  EndPos      Score\n",
       "0       chr1    773300  774100   7.866088\n",
       "1       chr1    778980  779450   6.472419\n",
       "2       chr1    800100  802000  11.010675\n",
       "3       chr1    825670  826410   6.114487\n",
       "4       chr1    839470  842590   8.848865"
      ]
     },
     "execution_count": 4,
     "metadata": {},
     "output_type": "execute_result"
    }
   ],
   "source": [
    "positive_set.head(5)"
   ]
  },
  {
   "cell_type": "code",
   "execution_count": 5,
   "metadata": {},
   "outputs": [],
   "source": [
    "# dodanie etykiety do zbiorów\n",
    "negative_set[\"IsEnhancer\"] = 0\n",
    "positive_set[\"IsEnhancer\"] = 1\n",
    "\n",
    "positive_set = positive_set.drop(columns=\"Score\")"
   ]
  },
  {
   "cell_type": "code",
   "execution_count": 6,
   "metadata": {},
   "outputs": [],
   "source": [
    "# połączenie zbiorów danych\n",
    "total_set = pd.concat([negative_set, positive_set])\n",
    "\n",
    "# usunięcie nieprawidłowych chromosomów\n",
    "total_set = total_set.loc[total_set[\"Chromosome\"].str.match(r\"chr\\d+\")]\n",
    "\n",
    "total_set = total_set.reset_index(drop=True)"
   ]
  },
  {
   "cell_type": "markdown",
   "metadata": {},
   "source": [
    "### Plik `.fasta`"
   ]
  },
  {
   "cell_type": "code",
   "execution_count": 11,
   "metadata": {},
   "outputs": [],
   "source": [
    "# odczyt pliku za pomocą biblioteki biopython\n",
    "plik = \"GRCh37.primary_assembly.genome.fa\"\n",
    "#\"GRCh37.primary_assembly.genome.fa\"\n",
    "fasta_sequences = {}\n",
    "\n",
    "with open(plik, \"r\") as handle:\n",
    "    for record in SeqIO.parse(handle, \"fasta\"):\n",
    "        fasta_sequences[record.id] = record.seq"
   ]
  },
  {
   "cell_type": "code",
   "execution_count": 12,
   "metadata": {},
   "outputs": [
    {
     "data": {
      "text/plain": [
       "['chr1', 'chr10', 'chr11', 'chr12', 'chr13']"
      ]
     },
     "execution_count": 12,
     "metadata": {},
     "output_type": "execute_result"
    }
   ],
   "source": [
    "# mamy podział na chromosomy\n",
    "list(fasta_sequences.keys())[:5]"
   ]
  },
  {
   "cell_type": "code",
   "execution_count": 24,
   "metadata": {},
   "outputs": [
    {
     "data": {
      "text/plain": [
       "Seq('NNNNNNNNNNNNNNNNNNNNNNNNNNNNNNNNNNNNNNNNNNNNNNNNNNNNNN...NNN')"
      ]
     },
     "execution_count": 24,
     "metadata": {},
     "output_type": "execute_result"
    }
   ],
   "source": [
    "# w każdym chromosomie mamy sekwencję DNA\n",
    "fasta_sequences[\"chr1\"]"
   ]
  },
  {
   "cell_type": "code",
   "execution_count": 25,
   "metadata": {},
   "outputs": [],
   "source": [
    "# na podstawie danych z plików .bed\n",
    "# wybieramy odpowiednie fragmenty DNA (chromosom, pozycja początkowa i końcowa)\n",
    "\n",
    "dna_sequence_list = []\n",
    "\n",
    "for index, data in total_set.iterrows():\n",
    "    chromosome = data[\"Chromosome\"]\n",
    "    start_pos = data[\"StartPos\"]\n",
    "    end_pos = data[\"EndPos\"]\n",
    "    dna_sequence = str(fasta_sequences[chromosome][start_pos:end_pos])\n",
    "    dna_sequence_list.append(dna_sequence)\n",
    "\n",
    "total_set[\"DNA sequence\"] = dna_sequence_list"
   ]
  },
  {
   "cell_type": "code",
   "execution_count": 26,
   "metadata": {},
   "outputs": [
    {
     "data": {
      "text/html": [
       "<div>\n",
       "<style scoped>\n",
       "    .dataframe tbody tr th:only-of-type {\n",
       "        vertical-align: middle;\n",
       "    }\n",
       "\n",
       "    .dataframe tbody tr th {\n",
       "        vertical-align: top;\n",
       "    }\n",
       "\n",
       "    .dataframe thead th {\n",
       "        text-align: right;\n",
       "    }\n",
       "</style>\n",
       "<table border=\"1\" class=\"dataframe\">\n",
       "  <thead>\n",
       "    <tr style=\"text-align: right;\">\n",
       "      <th></th>\n",
       "      <th>Chromosome</th>\n",
       "      <th>StartPos</th>\n",
       "      <th>EndPos</th>\n",
       "      <th>IsEnhancer</th>\n",
       "      <th>DNA sequence</th>\n",
       "    </tr>\n",
       "  </thead>\n",
       "  <tbody>\n",
       "    <tr>\n",
       "      <th>0</th>\n",
       "      <td>chr10</td>\n",
       "      <td>32251</td>\n",
       "      <td>36771</td>\n",
       "      <td>0</td>\n",
       "      <td>NNNNNNNNNNNNNNNNNNNNNNNNNNNNNNNNNNNNNNNNNNNNNN...</td>\n",
       "    </tr>\n",
       "    <tr>\n",
       "      <th>1</th>\n",
       "      <td>chr10</td>\n",
       "      <td>39431</td>\n",
       "      <td>39891</td>\n",
       "      <td>0</td>\n",
       "      <td>NNNNNNNNNNNNNNNNNNNNNNNNNNNNNNNNNNNNNNNNNNNNNN...</td>\n",
       "    </tr>\n",
       "    <tr>\n",
       "      <th>2</th>\n",
       "      <td>chr10</td>\n",
       "      <td>72312</td>\n",
       "      <td>74222</td>\n",
       "      <td>0</td>\n",
       "      <td>CTGCCACCGTGCCTGGCTAATTTCTGTATTTTTAGTAGAGAGGGGG...</td>\n",
       "    </tr>\n",
       "    <tr>\n",
       "      <th>3</th>\n",
       "      <td>chr10</td>\n",
       "      <td>84717</td>\n",
       "      <td>85177</td>\n",
       "      <td>0</td>\n",
       "      <td>AGAAGTTGAATCTCTGAATAGACCAATAACAGGATCTGAAATTGTG...</td>\n",
       "    </tr>\n",
       "    <tr>\n",
       "      <th>4</th>\n",
       "      <td>chr10</td>\n",
       "      <td>90499</td>\n",
       "      <td>91949</td>\n",
       "      <td>0</td>\n",
       "      <td>AGGTCAGGTGATCTGCAGCCAACCAAGCAGCTGCTAAGTGGCCAAC...</td>\n",
       "    </tr>\n",
       "  </tbody>\n",
       "</table>\n",
       "</div>"
      ],
      "text/plain": [
       "  Chromosome  StartPos  EndPos  IsEnhancer  \\\n",
       "0      chr10     32251   36771           0   \n",
       "1      chr10     39431   39891           0   \n",
       "2      chr10     72312   74222           0   \n",
       "3      chr10     84717   85177           0   \n",
       "4      chr10     90499   91949           0   \n",
       "\n",
       "                                        DNA sequence  \n",
       "0  NNNNNNNNNNNNNNNNNNNNNNNNNNNNNNNNNNNNNNNNNNNNNN...  \n",
       "1  NNNNNNNNNNNNNNNNNNNNNNNNNNNNNNNNNNNNNNNNNNNNNN...  \n",
       "2  CTGCCACCGTGCCTGGCTAATTTCTGTATTTTTAGTAGAGAGGGGG...  \n",
       "3  AGAAGTTGAATCTCTGAATAGACCAATAACAGGATCTGAAATTGTG...  \n",
       "4  AGGTCAGGTGATCTGCAGCCAACCAAGCAGCTGCTAAGTGGCCAAC...  "
      ]
     },
     "execution_count": 26,
     "metadata": {},
     "output_type": "execute_result"
    }
   ],
   "source": [
    "total_set.head(5)"
   ]
  },
  {
   "cell_type": "code",
   "execution_count": 27,
   "metadata": {},
   "outputs": [],
   "source": [
    "# usuwanie rekordów z 'N' w sekwencji DNA\n",
    "total_set = total_set[~total_set[\"DNA sequence\"].str.contains(\"N\")]"
   ]
  },
  {
   "cell_type": "markdown",
   "metadata": {},
   "source": [
    "### k-mery"
   ]
  },
  {
   "cell_type": "code",
   "execution_count": 28,
   "metadata": {},
   "outputs": [],
   "source": [
    "# funkcja do zliczenia k-merów w sekwencji DNA\n",
    "# dla całej ramki total_set\n",
    "# i do zapisu zliczonych częstości do pliku\n",
    "def count_and_save_kmers(k):\n",
    "\n",
    "    # lista wszystkich k-merów\n",
    "    kmers = [''.join(kmer_tuple) for kmer_tuple in itertools.product('ACTG', repeat=k)]\n",
    "\n",
    "    # funkcja do odwracania k-merów\n",
    "    def reverse_kmer(seq: str):\n",
    "        mapping = {\n",
    "            \"A\": \"T\",\n",
    "            \"T\": \"A\",\n",
    "            \"C\": \"G\",\n",
    "            \"G\": \"C\",\n",
    "        }\n",
    "        return \"\".join([mapping[s] for s in seq[::-1]])\n",
    "\n",
    "    # lista unikalnych k-merów, które (i których odwrócenia) będziemy zliczać\n",
    "    # dla k=4 liczy 136 elementów\n",
    "    unique_kmers = []\n",
    "    for kmer in kmers:\n",
    "        reversed_kmer = reverse_kmer(kmer)\n",
    "        if kmer not in unique_kmers and reversed_kmer not in unique_kmers:\n",
    "            unique_kmers.append(kmer)\n",
    "\n",
    "    # słownik do zliczania k-merów\n",
    "    kmers_counts = {kmer: pd.Series(index=total_set.index, data=0) for kmer in unique_kmers}\n",
    "\n",
    "    # zliczamy k-mery\n",
    "    for kmer in tqdm(kmers):\n",
    "        if kmer in unique_kmers:  \n",
    "            kmers_counts[kmer] += total_set[\"DNA sequence\"].str.count(kmer)\n",
    "        else:\n",
    "            reversed_kmer = reverse_kmer(kmer)\n",
    "            kmers_counts[reversed_kmer] = total_set[\"DNA sequence\"].str.count(kmer)\n",
    "\n",
    "    # łączymy częstości w ramkę danych\n",
    "    kmers_counts_df = pd.concat(kmers_counts, axis=1).round(6)\n",
    "\n",
    "    # dzielimy przez długość sekwencji\n",
    "    kmers_counts_df = kmers_counts_df.div(total_set[\"DNA sequence\"].str.len(), axis=0)\n",
    "\n",
    "    # łączymy z pierwotną ramką total_set i zapisujemy do pliku \n",
    "    total_set_with_kmers = pd.concat([total_set, kmers_counts_df], axis=1)\n",
    "    (\n",
    "        total_set_with_kmers\n",
    "            .drop(columns=[\"StartPos\", \"EndPos\", \"DNA sequence\"])\n",
    "            .to_parquet(f\"total_set_k_mers/total_set_{k}_mer.gzip\", compression=\"gzip\", index=False)\n",
    "    )"
   ]
  },
  {
   "cell_type": "code",
   "execution_count": null,
   "metadata": {},
   "outputs": [],
   "source": [
    "# zliczamy częstości k-merów dla kilku wybranych k\n",
    "\n",
    "# for k in [2, 3, 4, 5]:\n",
    "#     count_and_save_kmers(k)"
   ]
  },
  {
   "cell_type": "markdown",
   "metadata": {},
   "source": [
    "## Przygotowanie klasyfikatora\n",
    "\n",
    "### Wczytanie zbiorów z policzonymi częstościami k-merów"
   ]
  },
  {
   "cell_type": "code",
   "execution_count": 135,
   "metadata": {
    "scrolled": true
   },
   "outputs": [],
   "source": [
    "# wczytanie i podział na zbiory treningowy i testowy\n",
    "\n",
    "k = 3\n",
    "total_set = pd.read_parquet(f\"total_set_k_mers/total_set_{k}_mer.gzip\")\n",
    "\n",
    "test_set = total_set.loc[total_set[\"Chromosome\"].isin([\"chr1\", \"chr14\", \"chr21\"])]\n",
    "test_set_X = test_set.drop(columns=[\"Chromosome\", \"IsEnhancer\"])\n",
    "test_set_Y = test_set[\"IsEnhancer\"]\n",
    "\n",
    "trening_set = total_set.loc[~total_set[\"Chromosome\"].isin([\"chr1\", \"chr14\", \"chr21\"])]\n",
    "trening_set_X = trening_set.drop(columns=[\"Chromosome\", \"IsEnhancer\"])\n",
    "trening_set_Y = trening_set[\"IsEnhancer\"]\n",
    "\n",
    "#utworzenie zbioru walidacyjnego\n",
    "X_train, X_val, y_train, y_val = train_test_split(\n",
    "    trening_set_X, trening_set_Y, stratify=trening_set_Y, test_size=0.3, random_state=42\n",
    ")"
   ]
  },
  {
   "cell_type": "code",
   "execution_count": 98,
   "metadata": {},
   "outputs": [
    {
     "data": {
      "text/plain": [
       "1    6990\n",
       "Name: IsEnhancer, dtype: int64"
      ]
     },
     "execution_count": 98,
     "metadata": {},
     "output_type": "execute_result"
    }
   ],
   "source": [
    "#zbiór testowy zawiera same Enhancery\n",
    "test_set_Y.value_counts()"
   ]
  },
  {
   "cell_type": "markdown",
   "metadata": {},
   "source": [
    "Ponieważ zbiór testowy zawiera same enhancery, utworzono zbiór walidacyjny, o podobnym rozkładzie jak treningowy. (30% zbioru treningowego)"
   ]
  },
  {
   "cell_type": "code",
   "execution_count": 107,
   "metadata": {},
   "outputs": [
    {
     "data": {
      "text/plain": [
       "0    21717\n",
       "1    12454\n",
       "Name: IsEnhancer, dtype: int64"
      ]
     },
     "execution_count": 107,
     "metadata": {},
     "output_type": "execute_result"
    }
   ],
   "source": [
    "y_val.value_counts()"
   ]
  },
  {
   "cell_type": "code",
   "execution_count": 112,
   "metadata": {
    "scrolled": true
   },
   "outputs": [
    {
     "data": {
      "text/plain": [
       "0    50672\n",
       "1    29059\n",
       "Name: IsEnhancer, dtype: int64"
      ]
     },
     "execution_count": 112,
     "metadata": {},
     "output_type": "execute_result"
    }
   ],
   "source": [
    "y_train.value_counts()"
   ]
  },
  {
   "cell_type": "markdown",
   "metadata": {},
   "source": [
    "### Optymalizacja hiperparametrów\n",
    "Wybrano RandomForestClassifier, i metodę random search"
   ]
  },
  {
   "cell_type": "code",
   "execution_count": 145,
   "metadata": {},
   "outputs": [],
   "source": [
    "#Hiperparametry\n",
    "n_estimators = [50, 100, 400]\n",
    "max_features = ['log2', 'sqrt']\n",
    "min_samples_split = [2, 5, 10]\n",
    "min_samples_leaf = [1, 2, 4]\n",
    "max_depth = [3, 7, 10, 15]\n",
    "random_grid = {'n_estimators': n_estimators,\n",
    "               'max_features': max_features,\n",
    "               'min_samples_split': min_samples_split,\n",
    "               'min_samples_leaf': min_samples_leaf,\n",
    "              'max_depth': max_depth}\n"
   ]
  },
  {
   "cell_type": "code",
   "execution_count": 146,
   "metadata": {},
   "outputs": [],
   "source": [
    "def train_classifier(k, random_grid):\n",
    "    total_set = pd.read_parquet(f\"total_set_k_mers/total_set_{k}_mer.gzip\")\n",
    "\n",
    "    test_set = total_set.loc[total_set[\"Chromosome\"].isin([\"chr1\", \"chr14\", \"chr21\"])]\n",
    "    test_set_X = test_set.drop(columns=[\"Chromosome\", \"IsEnhancer\"])\n",
    "    test_set_Y = test_set[\"IsEnhancer\"]\n",
    "\n",
    "    trening_set = total_set.loc[~total_set[\"Chromosome\"].isin([\"chr1\", \"chr14\", \"chr21\"])]\n",
    "    trening_set_X = trening_set.drop(columns=[\"Chromosome\", \"IsEnhancer\"])\n",
    "    trening_set_Y = trening_set[\"IsEnhancer\"]\n",
    "    \n",
    "    #utworzenie zbioru walidacyjnego\n",
    "    X_train, X_val, y_train, y_val = train_test_split(\n",
    "        trening_set_X, trening_set_Y, stratify=trening_set_Y, test_size=0.3, random_state=42\n",
    "    )\n",
    "    print('start')\n",
    "    model = RandomForestClassifier()\n",
    "    model = RandomizedSearchCV(model, random_grid, random_state=13, n_iter=10, cv=3, verbose=3, scoring='roc_auc')\n",
    "    model.fit(X_train, y_train)\n",
    "    print('trained')\n",
    "    accuracy_train = accuracy_score(y_train, model.predict(X_train))\n",
    "    accuracy_test = accuracy_score(y_val, model.predict(X_val))\n",
    "    \n",
    "    train_prob = model.predict_proba(X_train)\n",
    "    test_prob = model.predict_proba(X_val)\n",
    "    \n",
    "    roc_train = roc_auc_score(y_train, model.predict_proba(X_train)[:, 1])\n",
    "    roc_val = roc_auc_score(y_val, model.predict_proba(X_val)[:, 1])\n",
    "    return [accuracy_train, accuracy_test, roc_train, roc_val], train_prob, test_prob, model\n",
    "    "
   ]
  },
  {
   "cell_type": "code",
   "execution_count": 147,
   "metadata": {
    "scrolled": false
   },
   "outputs": [
    {
     "name": "stdout",
     "output_type": "stream",
     "text": [
      "start\n",
      "Fitting 3 folds for each of 10 candidates, totalling 30 fits\n",
      "[CV 1/3] END max_depth=7, max_features=log2, min_samples_leaf=4, min_samples_split=10, n_estimators=50; total time=   5.0s\n",
      "[CV 2/3] END max_depth=7, max_features=log2, min_samples_leaf=4, min_samples_split=10, n_estimators=50; total time=   5.2s\n",
      "[CV 3/3] END max_depth=7, max_features=log2, min_samples_leaf=4, min_samples_split=10, n_estimators=50; total time=   5.5s\n",
      "[CV 1/3] END max_depth=15, max_features=sqrt, min_samples_leaf=4, min_samples_split=2, n_estimators=100; total time=  47.4s\n",
      "[CV 2/3] END max_depth=15, max_features=sqrt, min_samples_leaf=4, min_samples_split=2, n_estimators=100; total time=  48.1s\n",
      "[CV 3/3] END max_depth=15, max_features=sqrt, min_samples_leaf=4, min_samples_split=2, n_estimators=100; total time=  47.2s\n",
      "[CV 1/3] END max_depth=15, max_features=sqrt, min_samples_leaf=1, min_samples_split=5, n_estimators=100; total time=  49.0s\n",
      "[CV 2/3] END max_depth=15, max_features=sqrt, min_samples_leaf=1, min_samples_split=5, n_estimators=100; total time=  48.8s\n",
      "[CV 3/3] END max_depth=15, max_features=sqrt, min_samples_leaf=1, min_samples_split=5, n_estimators=100; total time=  49.6s\n",
      "[CV 1/3] END max_depth=15, max_features=log2, min_samples_leaf=4, min_samples_split=5, n_estimators=50; total time=  11.0s\n",
      "[CV 2/3] END max_depth=15, max_features=log2, min_samples_leaf=4, min_samples_split=5, n_estimators=50; total time=  10.4s\n",
      "[CV 3/3] END max_depth=15, max_features=log2, min_samples_leaf=4, min_samples_split=5, n_estimators=50; total time=  10.3s\n",
      "[CV 1/3] END max_depth=10, max_features=log2, min_samples_leaf=4, min_samples_split=5, n_estimators=400; total time=  57.7s\n",
      "[CV 2/3] END max_depth=10, max_features=log2, min_samples_leaf=4, min_samples_split=5, n_estimators=400; total time=  59.1s\n",
      "[CV 3/3] END max_depth=10, max_features=log2, min_samples_leaf=4, min_samples_split=5, n_estimators=400; total time= 1.0min\n",
      "[CV 1/3] END max_depth=10, max_features=log2, min_samples_leaf=2, min_samples_split=2, n_estimators=100; total time=  14.4s\n",
      "[CV 2/3] END max_depth=10, max_features=log2, min_samples_leaf=2, min_samples_split=2, n_estimators=100; total time=  15.3s\n",
      "[CV 3/3] END max_depth=10, max_features=log2, min_samples_leaf=2, min_samples_split=2, n_estimators=100; total time=  15.2s\n",
      "[CV 1/3] END max_depth=10, max_features=sqrt, min_samples_leaf=4, min_samples_split=5, n_estimators=100; total time=  37.0s\n",
      "[CV 2/3] END max_depth=10, max_features=sqrt, min_samples_leaf=4, min_samples_split=5, n_estimators=100; total time=  36.9s\n",
      "[CV 3/3] END max_depth=10, max_features=sqrt, min_samples_leaf=4, min_samples_split=5, n_estimators=100; total time=  36.1s\n",
      "[CV 1/3] END max_depth=7, max_features=sqrt, min_samples_leaf=4, min_samples_split=2, n_estimators=100; total time=  24.3s\n",
      "[CV 2/3] END max_depth=7, max_features=sqrt, min_samples_leaf=4, min_samples_split=2, n_estimators=100; total time=  24.9s\n",
      "[CV 3/3] END max_depth=7, max_features=sqrt, min_samples_leaf=4, min_samples_split=2, n_estimators=100; total time=  24.6s\n",
      "[CV 1/3] END max_depth=7, max_features=sqrt, min_samples_leaf=4, min_samples_split=2, n_estimators=400; total time= 1.7min\n",
      "[CV 2/3] END max_depth=7, max_features=sqrt, min_samples_leaf=4, min_samples_split=2, n_estimators=400; total time= 1.6min\n",
      "[CV 3/3] END max_depth=7, max_features=sqrt, min_samples_leaf=4, min_samples_split=2, n_estimators=400; total time= 1.6min\n",
      "[CV 1/3] END max_depth=7, max_features=log2, min_samples_leaf=2, min_samples_split=2, n_estimators=100; total time=  10.3s\n",
      "[CV 2/3] END max_depth=7, max_features=log2, min_samples_leaf=2, min_samples_split=2, n_estimators=100; total time=  10.4s\n",
      "[CV 3/3] END max_depth=7, max_features=log2, min_samples_leaf=2, min_samples_split=2, n_estimators=100; total time=  10.6s\n",
      "trained\n"
     ]
    }
   ],
   "source": [
    "w5, prob5, test_5_prob, model = train_classifier(5, random_grid)"
   ]
  },
  {
   "cell_type": "code",
   "execution_count": 164,
   "metadata": {},
   "outputs": [
    {
     "name": "stdout",
     "output_type": "stream",
     "text": [
      "start\n",
      "Fitting 3 folds for each of 10 candidates, totalling 30 fits\n",
      "[CV 1/3] END max_depth=7, max_features=log2, min_samples_leaf=4, min_samples_split=10, n_estimators=50; total time=   5.4s\n",
      "[CV 2/3] END max_depth=7, max_features=log2, min_samples_leaf=4, min_samples_split=10, n_estimators=50; total time=   5.6s\n",
      "[CV 3/3] END max_depth=7, max_features=log2, min_samples_leaf=4, min_samples_split=10, n_estimators=50; total time=   5.2s\n",
      "[CV 1/3] END max_depth=15, max_features=sqrt, min_samples_leaf=4, min_samples_split=2, n_estimators=100; total time=  34.0s\n",
      "[CV 2/3] END max_depth=15, max_features=sqrt, min_samples_leaf=4, min_samples_split=2, n_estimators=100; total time=  33.1s\n",
      "[CV 3/3] END max_depth=15, max_features=sqrt, min_samples_leaf=4, min_samples_split=2, n_estimators=100; total time=  34.3s\n",
      "[CV 1/3] END max_depth=15, max_features=sqrt, min_samples_leaf=1, min_samples_split=5, n_estimators=100; total time=  33.3s\n",
      "[CV 2/3] END max_depth=15, max_features=sqrt, min_samples_leaf=1, min_samples_split=5, n_estimators=100; total time=  33.7s\n",
      "[CV 3/3] END max_depth=15, max_features=sqrt, min_samples_leaf=1, min_samples_split=5, n_estimators=100; total time=  35.0s\n",
      "[CV 1/3] END max_depth=15, max_features=log2, min_samples_leaf=4, min_samples_split=5, n_estimators=50; total time=  10.9s\n",
      "[CV 2/3] END max_depth=15, max_features=log2, min_samples_leaf=4, min_samples_split=5, n_estimators=50; total time=  11.0s\n",
      "[CV 3/3] END max_depth=15, max_features=log2, min_samples_leaf=4, min_samples_split=5, n_estimators=50; total time=  11.4s\n",
      "[CV 1/3] END max_depth=10, max_features=log2, min_samples_leaf=4, min_samples_split=5, n_estimators=400; total time= 1.0min\n",
      "[CV 2/3] END max_depth=10, max_features=log2, min_samples_leaf=4, min_samples_split=5, n_estimators=400; total time= 1.0min\n",
      "[CV 3/3] END max_depth=10, max_features=log2, min_samples_leaf=4, min_samples_split=5, n_estimators=400; total time= 1.0min\n",
      "[CV 1/3] END max_depth=10, max_features=log2, min_samples_leaf=2, min_samples_split=2, n_estimators=100; total time=  16.6s\n",
      "[CV 2/3] END max_depth=10, max_features=log2, min_samples_leaf=2, min_samples_split=2, n_estimators=100; total time=  16.3s\n",
      "[CV 3/3] END max_depth=10, max_features=log2, min_samples_leaf=2, min_samples_split=2, n_estimators=100; total time=  17.3s\n",
      "[CV 1/3] END max_depth=10, max_features=sqrt, min_samples_leaf=4, min_samples_split=5, n_estimators=100; total time=  23.2s\n",
      "[CV 2/3] END max_depth=10, max_features=sqrt, min_samples_leaf=4, min_samples_split=5, n_estimators=100; total time=  24.4s\n",
      "[CV 3/3] END max_depth=10, max_features=sqrt, min_samples_leaf=4, min_samples_split=5, n_estimators=100; total time=  24.2s\n",
      "[CV 1/3] END max_depth=7, max_features=sqrt, min_samples_leaf=4, min_samples_split=2, n_estimators=100; total time=  16.5s\n",
      "[CV 2/3] END max_depth=7, max_features=sqrt, min_samples_leaf=4, min_samples_split=2, n_estimators=100; total time=  16.9s\n",
      "[CV 3/3] END max_depth=7, max_features=sqrt, min_samples_leaf=4, min_samples_split=2, n_estimators=100; total time=  16.5s\n",
      "[CV 1/3] END max_depth=7, max_features=sqrt, min_samples_leaf=4, min_samples_split=2, n_estimators=400; total time= 1.1min\n",
      "[CV 2/3] END max_depth=7, max_features=sqrt, min_samples_leaf=4, min_samples_split=2, n_estimators=400; total time= 1.1min\n",
      "[CV 3/3] END max_depth=7, max_features=sqrt, min_samples_leaf=4, min_samples_split=2, n_estimators=400; total time= 1.1min\n",
      "[CV 1/3] END max_depth=7, max_features=log2, min_samples_leaf=2, min_samples_split=2, n_estimators=100; total time=  10.8s\n",
      "[CV 2/3] END max_depth=7, max_features=log2, min_samples_leaf=2, min_samples_split=2, n_estimators=100; total time=  10.3s\n",
      "[CV 3/3] END max_depth=7, max_features=log2, min_samples_leaf=2, min_samples_split=2, n_estimators=100; total time=  10.4s\n",
      "trained\n"
     ]
    }
   ],
   "source": [
    "w4, prob4, test_4_prob, model4 = train_classifier(4, random_grid)"
   ]
  },
  {
   "cell_type": "code",
   "execution_count": 165,
   "metadata": {},
   "outputs": [
    {
     "name": "stdout",
     "output_type": "stream",
     "text": [
      "start\n",
      "Fitting 3 folds for each of 10 candidates, totalling 30 fits\n",
      "[CV 1/3] END max_depth=7, max_features=log2, min_samples_leaf=4, min_samples_split=10, n_estimators=50; total time=   4.2s\n",
      "[CV 2/3] END max_depth=7, max_features=log2, min_samples_leaf=4, min_samples_split=10, n_estimators=50; total time=   4.2s\n",
      "[CV 3/3] END max_depth=7, max_features=log2, min_samples_leaf=4, min_samples_split=10, n_estimators=50; total time=   4.2s\n",
      "[CV 1/3] END max_depth=15, max_features=sqrt, min_samples_leaf=4, min_samples_split=2, n_estimators=100; total time=  16.2s\n",
      "[CV 2/3] END max_depth=15, max_features=sqrt, min_samples_leaf=4, min_samples_split=2, n_estimators=100; total time=  16.1s\n",
      "[CV 3/3] END max_depth=15, max_features=sqrt, min_samples_leaf=4, min_samples_split=2, n_estimators=100; total time=  16.7s\n",
      "[CV 1/3] END max_depth=15, max_features=sqrt, min_samples_leaf=1, min_samples_split=5, n_estimators=100; total time=  16.6s\n",
      "[CV 2/3] END max_depth=15, max_features=sqrt, min_samples_leaf=1, min_samples_split=5, n_estimators=100; total time=  16.6s\n",
      "[CV 3/3] END max_depth=15, max_features=sqrt, min_samples_leaf=1, min_samples_split=5, n_estimators=100; total time=  16.5s\n",
      "[CV 1/3] END max_depth=15, max_features=log2, min_samples_leaf=4, min_samples_split=5, n_estimators=50; total time=   8.7s\n",
      "[CV 2/3] END max_depth=15, max_features=log2, min_samples_leaf=4, min_samples_split=5, n_estimators=50; total time=   8.0s\n",
      "[CV 3/3] END max_depth=15, max_features=log2, min_samples_leaf=4, min_samples_split=5, n_estimators=50; total time=   8.1s\n",
      "[CV 1/3] END max_depth=10, max_features=log2, min_samples_leaf=4, min_samples_split=5, n_estimators=400; total time=  48.2s\n",
      "[CV 2/3] END max_depth=10, max_features=log2, min_samples_leaf=4, min_samples_split=5, n_estimators=400; total time=  47.8s\n",
      "[CV 3/3] END max_depth=10, max_features=log2, min_samples_leaf=4, min_samples_split=5, n_estimators=400; total time=  48.2s\n",
      "[CV 1/3] END max_depth=10, max_features=log2, min_samples_leaf=2, min_samples_split=2, n_estimators=100; total time=  12.0s\n",
      "[CV 2/3] END max_depth=10, max_features=log2, min_samples_leaf=2, min_samples_split=2, n_estimators=100; total time=  12.2s\n",
      "[CV 3/3] END max_depth=10, max_features=log2, min_samples_leaf=2, min_samples_split=2, n_estimators=100; total time=  12.7s\n",
      "[CV 1/3] END max_depth=10, max_features=sqrt, min_samples_leaf=4, min_samples_split=5, n_estimators=100; total time=  11.9s\n",
      "[CV 2/3] END max_depth=10, max_features=sqrt, min_samples_leaf=4, min_samples_split=5, n_estimators=100; total time=  11.9s\n",
      "[CV 3/3] END max_depth=10, max_features=sqrt, min_samples_leaf=4, min_samples_split=5, n_estimators=100; total time=  11.8s\n",
      "[CV 1/3] END max_depth=7, max_features=sqrt, min_samples_leaf=4, min_samples_split=2, n_estimators=100; total time=   8.5s\n",
      "[CV 2/3] END max_depth=7, max_features=sqrt, min_samples_leaf=4, min_samples_split=2, n_estimators=100; total time=   8.5s\n",
      "[CV 3/3] END max_depth=7, max_features=sqrt, min_samples_leaf=4, min_samples_split=2, n_estimators=100; total time=   8.8s\n",
      "[CV 1/3] END max_depth=7, max_features=sqrt, min_samples_leaf=4, min_samples_split=2, n_estimators=400; total time=  34.3s\n",
      "[CV 2/3] END max_depth=7, max_features=sqrt, min_samples_leaf=4, min_samples_split=2, n_estimators=400; total time=  35.3s\n",
      "[CV 3/3] END max_depth=7, max_features=sqrt, min_samples_leaf=4, min_samples_split=2, n_estimators=400; total time=  35.3s\n",
      "[CV 1/3] END max_depth=7, max_features=log2, min_samples_leaf=2, min_samples_split=2, n_estimators=100; total time=   8.5s\n",
      "[CV 2/3] END max_depth=7, max_features=log2, min_samples_leaf=2, min_samples_split=2, n_estimators=100; total time=   8.5s\n",
      "[CV 3/3] END max_depth=7, max_features=log2, min_samples_leaf=2, min_samples_split=2, n_estimators=100; total time=   8.7s\n",
      "trained\n"
     ]
    }
   ],
   "source": [
    "w3, prob3, test_3_prob, model3 = train_classifier(3, random_grid)"
   ]
  },
  {
   "cell_type": "code",
   "execution_count": 166,
   "metadata": {
    "scrolled": false
   },
   "outputs": [
    {
     "name": "stdout",
     "output_type": "stream",
     "text": [
      "start\n",
      "Fitting 3 folds for each of 10 candidates, totalling 30 fits\n",
      "[CV 1/3] END max_depth=7, max_features=log2, min_samples_leaf=4, min_samples_split=10, n_estimators=50; total time=   2.9s\n",
      "[CV 2/3] END max_depth=7, max_features=log2, min_samples_leaf=4, min_samples_split=10, n_estimators=50; total time=   2.9s\n",
      "[CV 3/3] END max_depth=7, max_features=log2, min_samples_leaf=4, min_samples_split=10, n_estimators=50; total time=   2.9s\n",
      "[CV 1/3] END max_depth=15, max_features=sqrt, min_samples_leaf=4, min_samples_split=2, n_estimators=100; total time=  10.7s\n",
      "[CV 2/3] END max_depth=15, max_features=sqrt, min_samples_leaf=4, min_samples_split=2, n_estimators=100; total time=  11.2s\n",
      "[CV 3/3] END max_depth=15, max_features=sqrt, min_samples_leaf=4, min_samples_split=2, n_estimators=100; total time=  11.6s\n",
      "[CV 1/3] END max_depth=15, max_features=sqrt, min_samples_leaf=1, min_samples_split=5, n_estimators=100; total time=  10.8s\n",
      "[CV 2/3] END max_depth=15, max_features=sqrt, min_samples_leaf=1, min_samples_split=5, n_estimators=100; total time=  10.8s\n",
      "[CV 3/3] END max_depth=15, max_features=sqrt, min_samples_leaf=1, min_samples_split=5, n_estimators=100; total time=  10.8s\n",
      "[CV 1/3] END max_depth=15, max_features=log2, min_samples_leaf=4, min_samples_split=5, n_estimators=50; total time=   5.3s\n",
      "[CV 2/3] END max_depth=15, max_features=log2, min_samples_leaf=4, min_samples_split=5, n_estimators=50; total time=   5.3s\n",
      "[CV 3/3] END max_depth=15, max_features=log2, min_samples_leaf=4, min_samples_split=5, n_estimators=50; total time=   5.3s\n",
      "[CV 1/3] END max_depth=10, max_features=log2, min_samples_leaf=4, min_samples_split=5, n_estimators=400; total time=  32.2s\n",
      "[CV 2/3] END max_depth=10, max_features=log2, min_samples_leaf=4, min_samples_split=5, n_estimators=400; total time=  32.0s\n",
      "[CV 3/3] END max_depth=10, max_features=log2, min_samples_leaf=4, min_samples_split=5, n_estimators=400; total time=  32.1s\n",
      "[CV 1/3] END max_depth=10, max_features=log2, min_samples_leaf=2, min_samples_split=2, n_estimators=100; total time=   7.9s\n",
      "[CV 2/3] END max_depth=10, max_features=log2, min_samples_leaf=2, min_samples_split=2, n_estimators=100; total time=   7.9s\n",
      "[CV 3/3] END max_depth=10, max_features=log2, min_samples_leaf=2, min_samples_split=2, n_estimators=100; total time=   7.9s\n",
      "[CV 1/3] END max_depth=10, max_features=sqrt, min_samples_leaf=4, min_samples_split=5, n_estimators=100; total time=   7.9s\n",
      "[CV 2/3] END max_depth=10, max_features=sqrt, min_samples_leaf=4, min_samples_split=5, n_estimators=100; total time=   9.4s\n",
      "[CV 3/3] END max_depth=10, max_features=sqrt, min_samples_leaf=4, min_samples_split=5, n_estimators=100; total time=   9.2s\n",
      "[CV 1/3] END max_depth=7, max_features=sqrt, min_samples_leaf=4, min_samples_split=2, n_estimators=100; total time=   5.9s\n",
      "[CV 2/3] END max_depth=7, max_features=sqrt, min_samples_leaf=4, min_samples_split=2, n_estimators=100; total time=   6.1s\n",
      "[CV 3/3] END max_depth=7, max_features=sqrt, min_samples_leaf=4, min_samples_split=2, n_estimators=100; total time=   6.0s\n",
      "[CV 1/3] END max_depth=7, max_features=sqrt, min_samples_leaf=4, min_samples_split=2, n_estimators=400; total time=  23.7s\n",
      "[CV 2/3] END max_depth=7, max_features=sqrt, min_samples_leaf=4, min_samples_split=2, n_estimators=400; total time=  25.3s\n",
      "[CV 3/3] END max_depth=7, max_features=sqrt, min_samples_leaf=4, min_samples_split=2, n_estimators=400; total time=  24.1s\n",
      "[CV 1/3] END max_depth=7, max_features=log2, min_samples_leaf=2, min_samples_split=2, n_estimators=100; total time=   6.0s\n",
      "[CV 2/3] END max_depth=7, max_features=log2, min_samples_leaf=2, min_samples_split=2, n_estimators=100; total time=   5.8s\n",
      "[CV 3/3] END max_depth=7, max_features=log2, min_samples_leaf=2, min_samples_split=2, n_estimators=100; total time=   5.9s\n",
      "trained\n"
     ]
    }
   ],
   "source": [
    "w2, prob2, test_2_prob, model2 = train_classifier(2, random_grid)"
   ]
  },
  {
   "cell_type": "markdown",
   "metadata": {},
   "source": [
    "### Porównanie modeli -  krzywe ROC"
   ]
  },
  {
   "cell_type": "code",
   "execution_count": 187,
   "metadata": {
    "scrolled": false
   },
   "outputs": [
    {
     "data": {
      "image/png": "[encoded data removed]",
      "text/plain": [
       "<Figure size 648x648 with 1 Axes>"
      ]
     },
     "metadata": {
      "needs_background": "light"
     },
     "output_type": "display_data"
    }
   ],
   "source": [
    "def plot_roc_curve(y_true, y_pred, name):\n",
    "    fpr, tpr, threshold = roc_curve(y_true, y_pred)\n",
    "    score = round(roc_auc_score(y_true, y_pred), 3)\n",
    "    name += ': ' + str(score)\n",
    "    plt.plot(fpr, tpr, label=name)\n",
    "\n",
    "plt.figure(figsize=(9,9))\n",
    "# plot_roc_curve(trening_set_Y, prob5[:, 1], \"5-mer\")\n",
    "# plot_roc_curve(trening_set_Y, prob4[:, 1], \"4-mer\")\n",
    "# plot_roc_curve(trening_set_Y, prob3[:, 1], \"3-mer\")\n",
    "# plot_roc_curve(trening_set_Y, prob2[:, 1], \"2-mer\")\n",
    "plot_roc_curve(y_val, test_5_prob[:, 1], \"5-mer\")\n",
    "plot_roc_curve(y_val, test_4_prob[:, 1], \"4-mer\")\n",
    "plot_roc_curve(y_val, test_3_prob[:, 1], \"3-mer\")\n",
    "plot_roc_curve(y_val, test_2_prob[:, 1], \"2-mer\")\n",
    "\n",
    "\n",
    "plt.legend()\n",
    "plt.title('Krzywe ROC dla różnych k-merów na zbiorze walidacyjnym')\n",
    "plt.xlabel(\"False Positive Rate\")\n",
    "plt.ylabel(\"True Positive Rate\")\n",
    "plt.show()\n",
    "#plt.savefig('roc.png')"
   ]
  },
  {
   "cell_type": "markdown",
   "metadata": {},
   "source": [
    "### Porównanie modeli - różne metryki"
   ]
  },
  {
   "cell_type": "code",
   "execution_count": 191,
   "metadata": {},
   "outputs": [],
   "source": [
    "def score_dict(k, roc, model, ta, tr):\n",
    "    total_set = pd.read_parquet(f\"total_set_k_mers/total_set_{k}_mer.gzip\")\n",
    "\n",
    "    test_set = total_set.loc[total_set[\"Chromosome\"].isin([\"chr1\", \"chr14\", \"chr21\"])]\n",
    "    test_set_X = test_set.drop(columns=[\"Chromosome\", \"IsEnhancer\"])\n",
    "    test_set_Y = test_set[\"IsEnhancer\"]\n",
    "\n",
    "    trening_set = total_set.loc[~total_set[\"Chromosome\"].isin([\"chr1\", \"chr14\", \"chr21\"])]\n",
    "    trening_set_X = trening_set.drop(columns=[\"Chromosome\", \"IsEnhancer\"])\n",
    "    trening_set_Y = trening_set[\"IsEnhancer\"]\n",
    "\n",
    "    #utworzenie zbioru walidacyjnego\n",
    "    X_train, X_val, y_train, y_val = train_test_split(\n",
    "        trening_set_X, trening_set_Y, stratify=trening_set_Y, test_size=0.3, random_state=42\n",
    "    )\n",
    "    kdict = classification_report(y_val,model.predict(X_val), output_dict=True)\n",
    "    test_acc = accuracy_score(test_set_Y, model.predict(test_set_X))\n",
    "    return [roc, kdict['accuracy'], kdict['weighted avg']['precision'], kdict['weighted avg']['recall'],\n",
    "                            kdict['weighted avg']['f1-score'], test_acc, ta, tr] "
   ]
  },
  {
   "cell_type": "code",
   "execution_count": 192,
   "metadata": {},
   "outputs": [],
   "source": [
    "indicators = [\"roc auc\", \"accuracy\",\"precison\", \"recall\",\"f1\",\"test_accuracy\", \"train accuracy\", \"train roc auc\"]\n",
    "table = pd.DataFrame(columns = indicators) \n",
    "\n",
    "table.loc['5-mer'] = score_dict(5, w5[-1], model, w5[0], w5[2])\n",
    "table.loc['4-mer'] = score_dict(4, w4[-1], model4, w4[0], w4[2])\n",
    "table.loc['3-mer'] = score_dict(3, w3[-1], model3, w3[0], w3[2])\n",
    "table.loc['2-mer'] = score_dict(2, w2[-1], model2, w2[0], w2[2])"
   ]
  },
  {
   "cell_type": "markdown",
   "metadata": {},
   "source": [
    "### Wyniki na zbiorze walidacyjnym"
   ]
  },
  {
   "cell_type": "code",
   "execution_count": 195,
   "metadata": {
    "scrolled": true
   },
   "outputs": [
    {
     "data": {
      "text/html": [
       "<div>\n",
       "<style scoped>\n",
       "    .dataframe tbody tr th:only-of-type {\n",
       "        vertical-align: middle;\n",
       "    }\n",
       "\n",
       "    .dataframe tbody tr th {\n",
       "        vertical-align: top;\n",
       "    }\n",
       "\n",
       "    .dataframe thead th {\n",
       "        text-align: right;\n",
       "    }\n",
       "</style>\n",
       "<table border=\"1\" class=\"dataframe\">\n",
       "  <thead>\n",
       "    <tr style=\"text-align: right;\">\n",
       "      <th></th>\n",
       "      <th>roc auc</th>\n",
       "      <th>accuracy</th>\n",
       "      <th>precison</th>\n",
       "      <th>recall</th>\n",
       "      <th>f1</th>\n",
       "      <th>test_accuracy</th>\n",
       "      <th>train accuracy</th>\n",
       "      <th>train roc auc</th>\n",
       "    </tr>\n",
       "  </thead>\n",
       "  <tbody>\n",
       "    <tr>\n",
       "      <th>4-mer</th>\n",
       "      <td>0.727418</td>\n",
       "      <td>0.693541</td>\n",
       "      <td>0.686074</td>\n",
       "      <td>0.693541</td>\n",
       "      <td>0.661339</td>\n",
       "      <td>0.340629</td>\n",
       "      <td>0.912832</td>\n",
       "      <td>0.979051</td>\n",
       "    </tr>\n",
       "    <tr>\n",
       "      <th>3-mer</th>\n",
       "      <td>0.721336</td>\n",
       "      <td>0.690732</td>\n",
       "      <td>0.680825</td>\n",
       "      <td>0.690732</td>\n",
       "      <td>0.660990</td>\n",
       "      <td>0.350930</td>\n",
       "      <td>0.858662</td>\n",
       "      <td>0.948129</td>\n",
       "    </tr>\n",
       "    <tr>\n",
       "      <th>5-mer</th>\n",
       "      <td>0.716008</td>\n",
       "      <td>0.681689</td>\n",
       "      <td>0.673625</td>\n",
       "      <td>0.681689</td>\n",
       "      <td>0.639916</td>\n",
       "      <td>0.293562</td>\n",
       "      <td>0.914826</td>\n",
       "      <td>0.986655</td>\n",
       "    </tr>\n",
       "    <tr>\n",
       "      <th>2-mer</th>\n",
       "      <td>0.714681</td>\n",
       "      <td>0.681777</td>\n",
       "      <td>0.667559</td>\n",
       "      <td>0.681777</td>\n",
       "      <td>0.659245</td>\n",
       "      <td>0.387268</td>\n",
       "      <td>0.807202</td>\n",
       "      <td>0.896994</td>\n",
       "    </tr>\n",
       "  </tbody>\n",
       "</table>\n",
       "</div>"
      ],
      "text/plain": [
       "        roc auc  accuracy  precison    recall        f1  test_accuracy  \\\n",
       "4-mer  0.727418  0.693541  0.686074  0.693541  0.661339       0.340629   \n",
       "3-mer  0.721336  0.690732  0.680825  0.690732  0.660990       0.350930   \n",
       "5-mer  0.716008  0.681689  0.673625  0.681689  0.639916       0.293562   \n",
       "2-mer  0.714681  0.681777  0.667559  0.681777  0.659245       0.387268   \n",
       "\n",
       "       train accuracy  train roc auc  \n",
       "4-mer        0.912832       0.979051  \n",
       "3-mer        0.858662       0.948129  \n",
       "5-mer        0.914826       0.986655  \n",
       "2-mer        0.807202       0.896994  "
      ]
     },
     "execution_count": 195,
     "metadata": {},
     "output_type": "execute_result"
    }
   ],
   "source": [
    "table.sort_values(by = 'roc auc', ascending = False)"
   ]
  },
  {
   "cell_type": "markdown",
   "metadata": {},
   "source": [
    "### Najlepszy model\n",
    "Przetestowano las losowy, z różnymi hiperparametrami dla k=[2,3,4,5].\n",
    "\n",
    "Ostatecznie najlepszy klasyfikator otrzymano dla k = 4, czyli 4-merów. Uzyskany wynik ROC AUC na zbiorze walidacyjnym to 0.727.\n",
    "Najwięcej accuracy na zbiorze testowym(zawierającym same enhancery), to 0.387 (dla 2-merów). "
   ]
  }
 ],
 "metadata": {
  "kernelspec": {
   "display_name": "Python 3",
   "language": "python",
   "name": "python3"
  }
 },
 "nbformat": 4,
 "nbformat_minor": 2
}
