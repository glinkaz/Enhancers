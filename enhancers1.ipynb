{
 "cells": [
  {
   "cell_type": "code",
   "execution_count": 36,
   "metadata": {},
   "outputs": [],
   "source": [
    "import numpy as np\n",
    "import pandas as pd\n",
    "import itertools"
   ]
  },
  {
   "cell_type": "code",
   "execution_count": 2,
   "metadata": {},
   "outputs": [],
   "source": [
    "negative_set = pd.read_csv('negative_set.bed', delimiter='\\t', header = None)\n",
    "gm = pd.read_csv('GM12878.bed', delimiter='\\t', header=None)"
   ]
  },
  {
   "cell_type": "code",
   "execution_count": 3,
   "metadata": {},
   "outputs": [
    {
     "data": {
      "text/html": [
       "<div>\n",
       "<style scoped>\n",
       "    .dataframe tbody tr th:only-of-type {\n",
       "        vertical-align: middle;\n",
       "    }\n",
       "\n",
       "    .dataframe tbody tr th {\n",
       "        vertical-align: top;\n",
       "    }\n",
       "\n",
       "    .dataframe thead th {\n",
       "        text-align: right;\n",
       "    }\n",
       "</style>\n",
       "<table border=\"1\" class=\"dataframe\">\n",
       "  <thead>\n",
       "    <tr style=\"text-align: right;\">\n",
       "      <th></th>\n",
       "      <th>0</th>\n",
       "      <th>1</th>\n",
       "      <th>2</th>\n",
       "    </tr>\n",
       "  </thead>\n",
       "  <tbody>\n",
       "    <tr>\n",
       "      <th>0</th>\n",
       "      <td>chr10</td>\n",
       "      <td>32251</td>\n",
       "      <td>36771</td>\n",
       "    </tr>\n",
       "    <tr>\n",
       "      <th>1</th>\n",
       "      <td>chr10</td>\n",
       "      <td>39431</td>\n",
       "      <td>39891</td>\n",
       "    </tr>\n",
       "    <tr>\n",
       "      <th>2</th>\n",
       "      <td>chr10</td>\n",
       "      <td>72312</td>\n",
       "      <td>74222</td>\n",
       "    </tr>\n",
       "    <tr>\n",
       "      <th>3</th>\n",
       "      <td>chr10</td>\n",
       "      <td>84717</td>\n",
       "      <td>85177</td>\n",
       "    </tr>\n",
       "    <tr>\n",
       "      <th>4</th>\n",
       "      <td>chr10</td>\n",
       "      <td>90499</td>\n",
       "      <td>91949</td>\n",
       "    </tr>\n",
       "  </tbody>\n",
       "</table>\n",
       "</div>"
      ],
      "text/plain": [
       "       0      1      2\n",
       "0  chr10  32251  36771\n",
       "1  chr10  39431  39891\n",
       "2  chr10  72312  74222\n",
       "3  chr10  84717  85177\n",
       "4  chr10  90499  91949"
      ]
     },
     "execution_count": 3,
     "metadata": {},
     "output_type": "execute_result"
    }
   ],
   "source": [
    "negative_set.head()"
   ]
  },
  {
   "cell_type": "code",
   "execution_count": 21,
   "metadata": {},
   "outputs": [
    {
     "data": {
      "text/plain": [
       "array(['chr10', 'chr11', 'chr12', 'chr13', 'chr15', 'chr16', 'chr17',\n",
       "       'chr18', 'chr19', 'chr2', 'chr20', 'chr22', 'chr3', 'chr4', 'chr5',\n",
       "       'chr6', 'chr7', 'chr8', 'chr9', 'chrX', 'chrY'], dtype=object)"
      ]
     },
     "execution_count": 21,
     "metadata": {},
     "output_type": "execute_result"
    }
   ],
   "source": [
    "np.unique(negative_set[0])"
   ]
  },
  {
   "cell_type": "code",
   "execution_count": 31,
   "metadata": {},
   "outputs": [],
   "source": [
    "train_neg = negative_set.loc[~negative_set[0].isin(['chrY', 'chrX'])]"
   ]
  },
  {
   "cell_type": "code",
   "execution_count": 15,
   "metadata": {},
   "outputs": [
    {
     "data": {
      "text/html": [
       "<div>\n",
       "<style scoped>\n",
       "    .dataframe tbody tr th:only-of-type {\n",
       "        vertical-align: middle;\n",
       "    }\n",
       "\n",
       "    .dataframe tbody tr th {\n",
       "        vertical-align: top;\n",
       "    }\n",
       "\n",
       "    .dataframe thead th {\n",
       "        text-align: right;\n",
       "    }\n",
       "</style>\n",
       "<table border=\"1\" class=\"dataframe\">\n",
       "  <thead>\n",
       "    <tr style=\"text-align: right;\">\n",
       "      <th></th>\n",
       "      <th>0</th>\n",
       "      <th>1</th>\n",
       "      <th>2</th>\n",
       "      <th>3</th>\n",
       "    </tr>\n",
       "  </thead>\n",
       "  <tbody>\n",
       "    <tr>\n",
       "      <th>49667</th>\n",
       "      <td>chrX</td>\n",
       "      <td>154444850</td>\n",
       "      <td>154445660</td>\n",
       "      <td>9.207927</td>\n",
       "    </tr>\n",
       "    <tr>\n",
       "      <th>49668</th>\n",
       "      <td>chrX</td>\n",
       "      <td>154457730</td>\n",
       "      <td>154458660</td>\n",
       "      <td>5.836427</td>\n",
       "    </tr>\n",
       "    <tr>\n",
       "      <th>49669</th>\n",
       "      <td>chrX</td>\n",
       "      <td>154459120</td>\n",
       "      <td>154459990</td>\n",
       "      <td>8.231231</td>\n",
       "    </tr>\n",
       "    <tr>\n",
       "      <th>49670</th>\n",
       "      <td>chrX</td>\n",
       "      <td>154841610</td>\n",
       "      <td>154842450</td>\n",
       "      <td>7.930245</td>\n",
       "    </tr>\n",
       "    <tr>\n",
       "      <th>49671</th>\n",
       "      <td>chrX</td>\n",
       "      <td>155227450</td>\n",
       "      <td>155227940</td>\n",
       "      <td>6.410742</td>\n",
       "    </tr>\n",
       "  </tbody>\n",
       "</table>\n",
       "</div>"
      ],
      "text/plain": [
       "          0          1          2         3\n",
       "49667  chrX  154444850  154445660  9.207927\n",
       "49668  chrX  154457730  154458660  5.836427\n",
       "49669  chrX  154459120  154459990  8.231231\n",
       "49670  chrX  154841610  154842450  7.930245\n",
       "49671  chrX  155227450  155227940  6.410742"
      ]
     },
     "execution_count": 15,
     "metadata": {},
     "output_type": "execute_result"
    }
   ],
   "source": [
    "gm.tail()"
   ]
  },
  {
   "cell_type": "code",
   "execution_count": 20,
   "metadata": {},
   "outputs": [
    {
     "data": {
      "text/plain": [
       "array(['chr1', 'chr10', 'chr11', 'chr12', 'chr13', 'chr14', 'chr15',\n",
       "       'chr16', 'chr17', 'chr18', 'chr19', 'chr2', 'chr20', 'chr21',\n",
       "       'chr22', 'chr3', 'chr4', 'chr5', 'chr6', 'chr7', 'chr8', 'chr9',\n",
       "       'chrX'], dtype=object)"
      ]
     },
     "execution_count": 20,
     "metadata": {},
     "output_type": "execute_result"
    }
   ],
   "source": [
    "np.unique(gm[0])"
   ]
  },
  {
   "cell_type": "code",
   "execution_count": 25,
   "metadata": {},
   "outputs": [],
   "source": [
    "test = gm.loc[gm[0].isin(['chr1', 'chr14', 'chr21'])]"
   ]
  },
  {
   "cell_type": "code",
   "execution_count": 29,
   "metadata": {},
   "outputs": [],
   "source": [
    "train = gm.loc[~gm[0].isin(['chr1', 'chr14', 'chr21', 'chrX'])]"
   ]
  },
  {
   "cell_type": "code",
   "execution_count": 9,
   "metadata": {},
   "outputs": [],
   "source": [
    "GRCh37 = pd.read_csv('GRCh37.primary_assembly.genome.fa', sep='\\t')"
   ]
  },
  {
   "cell_type": "code",
   "execution_count": 11,
   "metadata": {},
   "outputs": [
    {
     "data": {
      "text/html": [
       "<div>\n",
       "<style scoped>\n",
       "    .dataframe tbody tr th:only-of-type {\n",
       "        vertical-align: middle;\n",
       "    }\n",
       "\n",
       "    .dataframe tbody tr th {\n",
       "        vertical-align: top;\n",
       "    }\n",
       "\n",
       "    .dataframe thead th {\n",
       "        text-align: right;\n",
       "    }\n",
       "</style>\n",
       "<table border=\"1\" class=\"dataframe\">\n",
       "  <thead>\n",
       "    <tr style=\"text-align: right;\">\n",
       "      <th></th>\n",
       "      <th>&gt;chr1 1</th>\n",
       "    </tr>\n",
       "  </thead>\n",
       "  <tbody>\n",
       "    <tr>\n",
       "      <th>0</th>\n",
       "      <td>NNNNNNNNNNNNNNNNNNNNNNNNNNNNNNNNNNNNNNNNNNNNNN...</td>\n",
       "    </tr>\n",
       "    <tr>\n",
       "      <th>1</th>\n",
       "      <td>NNNNNNNNNNNNNNNNNNNNNNNNNNNNNNNNNNNNNNNNNNNNNN...</td>\n",
       "    </tr>\n",
       "    <tr>\n",
       "      <th>2</th>\n",
       "      <td>NNNNNNNNNNNNNNNNNNNNNNNNNNNNNNNNNNNNNNNNNNNNNN...</td>\n",
       "    </tr>\n",
       "    <tr>\n",
       "      <th>3</th>\n",
       "      <td>NNNNNNNNNNNNNNNNNNNNNNNNNNNNNNNNNNNNNNNNNNNNNN...</td>\n",
       "    </tr>\n",
       "    <tr>\n",
       "      <th>4</th>\n",
       "      <td>NNNNNNNNNNNNNNNNNNNNNNNNNNNNNNNNNNNNNNNNNNNNNN...</td>\n",
       "    </tr>\n",
       "    <tr>\n",
       "      <th>...</th>\n",
       "      <td>...</td>\n",
       "    </tr>\n",
       "    <tr>\n",
       "      <th>51696864</th>\n",
       "      <td>GTTGTAGTGCTGGCTGTTGTTGTGGTTGTGGGTTCAGTAGAGGTGG...</td>\n",
       "    </tr>\n",
       "    <tr>\n",
       "      <th>51696865</th>\n",
       "      <td>GTGGTTGTGGTCTCAGTAGCAGTGGCTGCAGTTGTGGTGGCAGACT...</td>\n",
       "    </tr>\n",
       "    <tr>\n",
       "      <th>51696866</th>\n",
       "      <td>CTTGCTGTGGTTGTCATTGTGGGTTCAGCAGAAGTGGCAGTGGTGG...</td>\n",
       "    </tr>\n",
       "    <tr>\n",
       "      <th>51696867</th>\n",
       "      <td>GTCTCAGTGGAAGTGCCTGCAGTTGTGGTGGCAGACTGTTCAGTTG...</td>\n",
       "    </tr>\n",
       "    <tr>\n",
       "      <th>51696868</th>\n",
       "      <td>TC</td>\n",
       "    </tr>\n",
       "  </tbody>\n",
       "</table>\n",
       "<p>51696869 rows × 1 columns</p>\n",
       "</div>"
      ],
      "text/plain": [
       "                                                    >chr1 1\n",
       "0         NNNNNNNNNNNNNNNNNNNNNNNNNNNNNNNNNNNNNNNNNNNNNN...\n",
       "1         NNNNNNNNNNNNNNNNNNNNNNNNNNNNNNNNNNNNNNNNNNNNNN...\n",
       "2         NNNNNNNNNNNNNNNNNNNNNNNNNNNNNNNNNNNNNNNNNNNNNN...\n",
       "3         NNNNNNNNNNNNNNNNNNNNNNNNNNNNNNNNNNNNNNNNNNNNNN...\n",
       "4         NNNNNNNNNNNNNNNNNNNNNNNNNNNNNNNNNNNNNNNNNNNNNN...\n",
       "...                                                     ...\n",
       "51696864  GTTGTAGTGCTGGCTGTTGTTGTGGTTGTGGGTTCAGTAGAGGTGG...\n",
       "51696865  GTGGTTGTGGTCTCAGTAGCAGTGGCTGCAGTTGTGGTGGCAGACT...\n",
       "51696866  CTTGCTGTGGTTGTCATTGTGGGTTCAGCAGAAGTGGCAGTGGTGG...\n",
       "51696867  GTCTCAGTGGAAGTGCCTGCAGTTGTGGTGGCAGACTGTTCAGTTG...\n",
       "51696868                                                 TC\n",
       "\n",
       "[51696869 rows x 1 columns]"
      ]
     },
     "execution_count": 11,
     "metadata": {},
     "output_type": "execute_result"
    }
   ],
   "source": [
    "GRCh37"
   ]
  },
  {
   "cell_type": "code",
   "execution_count": 13,
   "metadata": {},
   "outputs": [],
   "source": [
    "GRCh37_1 = GRCh37.loc[~GRCh37['>chr1 1'].str.contains('NN')]"
   ]
  },
  {
   "cell_type": "code",
   "execution_count": 14,
   "metadata": {},
   "outputs": [
    {
     "data": {
      "text/html": [
       "<div>\n",
       "<style scoped>\n",
       "    .dataframe tbody tr th:only-of-type {\n",
       "        vertical-align: middle;\n",
       "    }\n",
       "\n",
       "    .dataframe tbody tr th {\n",
       "        vertical-align: top;\n",
       "    }\n",
       "\n",
       "    .dataframe thead th {\n",
       "        text-align: right;\n",
       "    }\n",
       "</style>\n",
       "<table border=\"1\" class=\"dataframe\">\n",
       "  <thead>\n",
       "    <tr style=\"text-align: right;\">\n",
       "      <th></th>\n",
       "      <th>&gt;chr1 1</th>\n",
       "    </tr>\n",
       "  </thead>\n",
       "  <tbody>\n",
       "    <tr>\n",
       "      <th>167</th>\n",
       "      <td>ACCCTAACCCTAACCCTAACCCTAACCCTAACCCTAACCCTAACCC...</td>\n",
       "    </tr>\n",
       "    <tr>\n",
       "      <th>168</th>\n",
       "      <td>ACCCTAACCCTAACCCTAACCCTAACCCAACCCTAACCCTAACCCT...</td>\n",
       "    </tr>\n",
       "    <tr>\n",
       "      <th>169</th>\n",
       "      <td>CCCTAACCCCTAACCCTAACCCTAACCCTAACCCTAACCTAACCCT...</td>\n",
       "    </tr>\n",
       "    <tr>\n",
       "      <th>170</th>\n",
       "      <td>CCCTAACCCTAACCCTAACCCTAACCCTAACCCCTAACCCTAACCC...</td>\n",
       "    </tr>\n",
       "    <tr>\n",
       "      <th>171</th>\n",
       "      <td>TAACCCTAACCCTAACCCTAACCCTAACCCCAACCCCAACCCCAAC...</td>\n",
       "    </tr>\n",
       "    <tr>\n",
       "      <th>...</th>\n",
       "      <td>...</td>\n",
       "    </tr>\n",
       "    <tr>\n",
       "      <th>51696864</th>\n",
       "      <td>GTTGTAGTGCTGGCTGTTGTTGTGGTTGTGGGTTCAGTAGAGGTGG...</td>\n",
       "    </tr>\n",
       "    <tr>\n",
       "      <th>51696865</th>\n",
       "      <td>GTGGTTGTGGTCTCAGTAGCAGTGGCTGCAGTTGTGGTGGCAGACT...</td>\n",
       "    </tr>\n",
       "    <tr>\n",
       "      <th>51696866</th>\n",
       "      <td>CTTGCTGTGGTTGTCATTGTGGGTTCAGCAGAAGTGGCAGTGGTGG...</td>\n",
       "    </tr>\n",
       "    <tr>\n",
       "      <th>51696867</th>\n",
       "      <td>GTCTCAGTGGAAGTGCCTGCAGTTGTGGTGGCAGACTGTTCAGTTG...</td>\n",
       "    </tr>\n",
       "    <tr>\n",
       "      <th>51696868</th>\n",
       "      <td>TC</td>\n",
       "    </tr>\n",
       "  </tbody>\n",
       "</table>\n",
       "<p>47746258 rows × 1 columns</p>\n",
       "</div>"
      ],
      "text/plain": [
       "                                                    >chr1 1\n",
       "167       ACCCTAACCCTAACCCTAACCCTAACCCTAACCCTAACCCTAACCC...\n",
       "168       ACCCTAACCCTAACCCTAACCCTAACCCAACCCTAACCCTAACCCT...\n",
       "169       CCCTAACCCCTAACCCTAACCCTAACCCTAACCCTAACCTAACCCT...\n",
       "170       CCCTAACCCTAACCCTAACCCTAACCCTAACCCCTAACCCTAACCC...\n",
       "171       TAACCCTAACCCTAACCCTAACCCTAACCCCAACCCCAACCCCAAC...\n",
       "...                                                     ...\n",
       "51696864  GTTGTAGTGCTGGCTGTTGTTGTGGTTGTGGGTTCAGTAGAGGTGG...\n",
       "51696865  GTGGTTGTGGTCTCAGTAGCAGTGGCTGCAGTTGTGGTGGCAGACT...\n",
       "51696866  CTTGCTGTGGTTGTCATTGTGGGTTCAGCAGAAGTGGCAGTGGTGG...\n",
       "51696867  GTCTCAGTGGAAGTGCCTGCAGTTGTGGTGGCAGACTGTTCAGTTG...\n",
       "51696868                                                 TC\n",
       "\n",
       "[47746258 rows x 1 columns]"
      ]
     },
     "execution_count": 14,
     "metadata": {},
     "output_type": "execute_result"
    }
   ],
   "source": [
    "GRCh37_1"
   ]
  },
  {
   "cell_type": "code",
   "execution_count": 57,
   "metadata": {},
   "outputs": [],
   "source": [
    "def Find_Kmers(string, k):    \n",
    "    kmers = itertools.product('ACTG', repeat=2)\n",
    "    for i in kmers:\n",
    "        if string.count(''.join(i)) > 0:\n",
    "            print(f\"{''.join(i)}: {string.count(''.join(i))}\")\n"
   ]
  },
  {
   "cell_type": "code",
   "execution_count": 58,
   "metadata": {},
   "outputs": [
    {
     "name": "stdout",
     "output_type": "stream",
     "text": [
      "AA: 7\n",
      "AC: 8\n",
      "CC: 8\n",
      "CT: 7\n",
      "TA: 7\n"
     ]
    }
   ],
   "source": [
    "Find_Kmers('ACCCTAACCCTAACCCTAACCCTAACCCTAACCCTAACCCTAACCC', 2)"
   ]
  }
 ],
 "metadata": {
  "kernelspec": {
   "display_name": "py310",
   "language": "python",
   "name": "python3"
  },
  "language_info": {
   "codemirror_mode": {
    "name": "ipython",
    "version": 3
   },
   "file_extension": ".py",
   "mimetype": "text/x-python",
   "name": "python",
   "nbconvert_exporter": "python",
   "pygments_lexer": "ipython3",
   "version": "3.10.10"
  },
  "orig_nbformat": 4
 },
 "nbformat": 4,
 "nbformat_minor": 2
}
