{
 "cells": [
  {
   "cell_type": "code",
   "execution_count": 1,
   "metadata": {},
   "outputs": [],
   "source": [
    "import numpy as np\n",
    "import pandas as pd\n",
    "import itertools\n",
    "from Bio import SeqIO\n",
    "from tqdm.auto import tqdm\n",
    "\n",
    "import joblib"
   ]
  },
  {
   "attachments": {},
   "cell_type": "markdown",
   "metadata": {},
   "source": [
    "## Wczytanie i przygotowanie danych"
   ]
  },
  {
   "attachments": {},
   "cell_type": "markdown",
   "metadata": {},
   "source": [
    "### Pliki `.bed`"
   ]
  },
  {
   "cell_type": "code",
   "execution_count": 2,
   "metadata": {},
   "outputs": [],
   "source": [
    "negative_set = pd.read_csv('negative_set.bed', delimiter='\\t', header=None, names=[\"Chromosome\", \"StartPos\", \"EndPos\"])\n",
    "positive_set = pd.read_csv('GM12878.bed', delimiter='\\t', header=None, names=[\"Chromosome\", \"StartPos\", \"EndPos\", \"Score\"])"
   ]
  },
  {
   "cell_type": "code",
   "execution_count": 3,
   "metadata": {},
   "outputs": [
    {
     "data": {
      "text/html": [
       "<div>\n",
       "<style scoped>\n",
       "    .dataframe tbody tr th:only-of-type {\n",
       "        vertical-align: middle;\n",
       "    }\n",
       "\n",
       "    .dataframe tbody tr th {\n",
       "        vertical-align: top;\n",
       "    }\n",
       "\n",
       "    .dataframe thead th {\n",
       "        text-align: right;\n",
       "    }\n",
       "</style>\n",
       "<table border=\"1\" class=\"dataframe\">\n",
       "  <thead>\n",
       "    <tr style=\"text-align: right;\">\n",
       "      <th></th>\n",
       "      <th>Chromosome</th>\n",
       "      <th>StartPos</th>\n",
       "      <th>EndPos</th>\n",
       "    </tr>\n",
       "  </thead>\n",
       "  <tbody>\n",
       "    <tr>\n",
       "      <th>0</th>\n",
       "      <td>chr10</td>\n",
       "      <td>32251</td>\n",
       "      <td>36771</td>\n",
       "    </tr>\n",
       "    <tr>\n",
       "      <th>1</th>\n",
       "      <td>chr10</td>\n",
       "      <td>39431</td>\n",
       "      <td>39891</td>\n",
       "    </tr>\n",
       "    <tr>\n",
       "      <th>2</th>\n",
       "      <td>chr10</td>\n",
       "      <td>72312</td>\n",
       "      <td>74222</td>\n",
       "    </tr>\n",
       "    <tr>\n",
       "      <th>3</th>\n",
       "      <td>chr10</td>\n",
       "      <td>84717</td>\n",
       "      <td>85177</td>\n",
       "    </tr>\n",
       "    <tr>\n",
       "      <th>4</th>\n",
       "      <td>chr10</td>\n",
       "      <td>90499</td>\n",
       "      <td>91949</td>\n",
       "    </tr>\n",
       "  </tbody>\n",
       "</table>\n",
       "</div>"
      ],
      "text/plain": [
       "  Chromosome  StartPos  EndPos\n",
       "0      chr10     32251   36771\n",
       "1      chr10     39431   39891\n",
       "2      chr10     72312   74222\n",
       "3      chr10     84717   85177\n",
       "4      chr10     90499   91949"
      ]
     },
     "execution_count": 3,
     "metadata": {},
     "output_type": "execute_result"
    }
   ],
   "source": [
    "negative_set.head(5)"
   ]
  },
  {
   "cell_type": "code",
   "execution_count": 4,
   "metadata": {},
   "outputs": [
    {
     "data": {
      "text/html": [
       "<div>\n",
       "<style scoped>\n",
       "    .dataframe tbody tr th:only-of-type {\n",
       "        vertical-align: middle;\n",
       "    }\n",
       "\n",
       "    .dataframe tbody tr th {\n",
       "        vertical-align: top;\n",
       "    }\n",
       "\n",
       "    .dataframe thead th {\n",
       "        text-align: right;\n",
       "    }\n",
       "</style>\n",
       "<table border=\"1\" class=\"dataframe\">\n",
       "  <thead>\n",
       "    <tr style=\"text-align: right;\">\n",
       "      <th></th>\n",
       "      <th>Chromosome</th>\n",
       "      <th>StartPos</th>\n",
       "      <th>EndPos</th>\n",
       "      <th>Score</th>\n",
       "    </tr>\n",
       "  </thead>\n",
       "  <tbody>\n",
       "    <tr>\n",
       "      <th>0</th>\n",
       "      <td>chr1</td>\n",
       "      <td>773300</td>\n",
       "      <td>774100</td>\n",
       "      <td>7.866088</td>\n",
       "    </tr>\n",
       "    <tr>\n",
       "      <th>1</th>\n",
       "      <td>chr1</td>\n",
       "      <td>778980</td>\n",
       "      <td>779450</td>\n",
       "      <td>6.472419</td>\n",
       "    </tr>\n",
       "    <tr>\n",
       "      <th>2</th>\n",
       "      <td>chr1</td>\n",
       "      <td>800100</td>\n",
       "      <td>802000</td>\n",
       "      <td>11.010675</td>\n",
       "    </tr>\n",
       "    <tr>\n",
       "      <th>3</th>\n",
       "      <td>chr1</td>\n",
       "      <td>825670</td>\n",
       "      <td>826410</td>\n",
       "      <td>6.114487</td>\n",
       "    </tr>\n",
       "    <tr>\n",
       "      <th>4</th>\n",
       "      <td>chr1</td>\n",
       "      <td>839470</td>\n",
       "      <td>842590</td>\n",
       "      <td>8.848865</td>\n",
       "    </tr>\n",
       "  </tbody>\n",
       "</table>\n",
       "</div>"
      ],
      "text/plain": [
       "  Chromosome  StartPos  EndPos      Score\n",
       "0       chr1    773300  774100   7.866088\n",
       "1       chr1    778980  779450   6.472419\n",
       "2       chr1    800100  802000  11.010675\n",
       "3       chr1    825670  826410   6.114487\n",
       "4       chr1    839470  842590   8.848865"
      ]
     },
     "execution_count": 4,
     "metadata": {},
     "output_type": "execute_result"
    }
   ],
   "source": [
    "positive_set.head(5)"
   ]
  },
  {
   "cell_type": "code",
   "execution_count": 5,
   "metadata": {},
   "outputs": [],
   "source": [
    "# dodanie etykiety do zbiorów\n",
    "negative_set[\"IsEnhancer\"] = 0\n",
    "positive_set[\"IsEnhancer\"] = 1\n",
    "\n",
    "positive_set = positive_set.drop(columns=\"Score\")"
   ]
  },
  {
   "cell_type": "code",
   "execution_count": 6,
   "metadata": {},
   "outputs": [],
   "source": [
    "# połączenie zbiorów danych\n",
    "total_set = pd.concat([negative_set, positive_set])\n",
    "\n",
    "# usunięcie nieprawidłowych chromosomów\n",
    "total_set = total_set.loc[total_set[\"Chromosome\"].str.match(r\"chr\\d+\")]\n",
    "\n",
    "total_set = total_set.reset_index(drop=True)"
   ]
  },
  {
   "cell_type": "code",
   "execution_count": 7,
   "metadata": {},
   "outputs": [
    {
     "data": {
      "text/html": [
       "<div>\n",
       "<style scoped>\n",
       "    .dataframe tbody tr th:only-of-type {\n",
       "        vertical-align: middle;\n",
       "    }\n",
       "\n",
       "    .dataframe tbody tr th {\n",
       "        vertical-align: top;\n",
       "    }\n",
       "\n",
       "    .dataframe thead th {\n",
       "        text-align: right;\n",
       "    }\n",
       "</style>\n",
       "<table border=\"1\" class=\"dataframe\">\n",
       "  <thead>\n",
       "    <tr style=\"text-align: right;\">\n",
       "      <th></th>\n",
       "      <th>Chromosome</th>\n",
       "      <th>StartPos</th>\n",
       "      <th>EndPos</th>\n",
       "      <th>IsEnhancer</th>\n",
       "    </tr>\n",
       "  </thead>\n",
       "  <tbody>\n",
       "    <tr>\n",
       "      <th>0</th>\n",
       "      <td>chr10</td>\n",
       "      <td>32251</td>\n",
       "      <td>36771</td>\n",
       "      <td>0</td>\n",
       "    </tr>\n",
       "    <tr>\n",
       "      <th>1</th>\n",
       "      <td>chr10</td>\n",
       "      <td>39431</td>\n",
       "      <td>39891</td>\n",
       "      <td>0</td>\n",
       "    </tr>\n",
       "    <tr>\n",
       "      <th>2</th>\n",
       "      <td>chr10</td>\n",
       "      <td>72312</td>\n",
       "      <td>74222</td>\n",
       "      <td>0</td>\n",
       "    </tr>\n",
       "    <tr>\n",
       "      <th>3</th>\n",
       "      <td>chr10</td>\n",
       "      <td>84717</td>\n",
       "      <td>85177</td>\n",
       "      <td>0</td>\n",
       "    </tr>\n",
       "    <tr>\n",
       "      <th>4</th>\n",
       "      <td>chr10</td>\n",
       "      <td>90499</td>\n",
       "      <td>91949</td>\n",
       "      <td>0</td>\n",
       "    </tr>\n",
       "    <tr>\n",
       "      <th>...</th>\n",
       "      <td>...</td>\n",
       "      <td>...</td>\n",
       "      <td>...</td>\n",
       "      <td>...</td>\n",
       "    </tr>\n",
       "    <tr>\n",
       "      <th>127034</th>\n",
       "      <td>chr9</td>\n",
       "      <td>140651150</td>\n",
       "      <td>140652330</td>\n",
       "      <td>1</td>\n",
       "    </tr>\n",
       "    <tr>\n",
       "      <th>127035</th>\n",
       "      <td>chr9</td>\n",
       "      <td>140702130</td>\n",
       "      <td>140703100</td>\n",
       "      <td>1</td>\n",
       "    </tr>\n",
       "    <tr>\n",
       "      <th>127036</th>\n",
       "      <td>chr9</td>\n",
       "      <td>140703310</td>\n",
       "      <td>140704120</td>\n",
       "      <td>1</td>\n",
       "    </tr>\n",
       "    <tr>\n",
       "      <th>127037</th>\n",
       "      <td>chr9</td>\n",
       "      <td>140710520</td>\n",
       "      <td>140711890</td>\n",
       "      <td>1</td>\n",
       "    </tr>\n",
       "    <tr>\n",
       "      <th>127038</th>\n",
       "      <td>chr9</td>\n",
       "      <td>140719390</td>\n",
       "      <td>140720520</td>\n",
       "      <td>1</td>\n",
       "    </tr>\n",
       "  </tbody>\n",
       "</table>\n",
       "<p>127039 rows × 4 columns</p>\n",
       "</div>"
      ],
      "text/plain": [
       "       Chromosome   StartPos     EndPos  IsEnhancer\n",
       "0           chr10      32251      36771           0\n",
       "1           chr10      39431      39891           0\n",
       "2           chr10      72312      74222           0\n",
       "3           chr10      84717      85177           0\n",
       "4           chr10      90499      91949           0\n",
       "...           ...        ...        ...         ...\n",
       "127034       chr9  140651150  140652330           1\n",
       "127035       chr9  140702130  140703100           1\n",
       "127036       chr9  140703310  140704120           1\n",
       "127037       chr9  140710520  140711890           1\n",
       "127038       chr9  140719390  140720520           1\n",
       "\n",
       "[127039 rows x 4 columns]"
      ]
     },
     "execution_count": 7,
     "metadata": {},
     "output_type": "execute_result"
    }
   ],
   "source": [
    "total_set"
   ]
  },
  {
   "attachments": {},
   "cell_type": "markdown",
   "metadata": {},
   "source": [
    "#### Średnia długość enhancera!!!"
   ]
  },
  {
   "cell_type": "code",
   "execution_count": 8,
   "metadata": {},
   "outputs": [
    {
     "data": {
      "text/plain": [
       "1744.0801070840198"
      ]
     },
     "execution_count": 8,
     "metadata": {},
     "output_type": "execute_result"
    }
   ],
   "source": [
    "total_set[\"Length\"] = total_set[\"EndPos\"] - total_set[\"StartPos\"]\n",
    "total_set.loc[total_set[\"IsEnhancer\"] == 1, \"Length\"].mean()\n",
    "\n",
    "# średnia długość to 1700!!"
   ]
  },
  {
   "attachments": {},
   "cell_type": "markdown",
   "metadata": {},
   "source": [
    "### Plik `.fasta`"
   ]
  },
  {
   "cell_type": "code",
   "execution_count": 9,
   "metadata": {},
   "outputs": [],
   "source": [
    "# odczyt pliku za pomocą biblioteki biopython\n",
    "plik = \"GRCh37.primary_assembly.genome.fa\"\n",
    "\n",
    "fasta_sequences = {}\n",
    "\n",
    "with open(plik, \"r\") as handle:\n",
    "    for record in SeqIO.parse(handle, \"fasta\"):\n",
    "        fasta_sequences[record.id] = record.seq"
   ]
  },
  {
   "cell_type": "code",
   "execution_count": 10,
   "metadata": {},
   "outputs": [],
   "source": [
    "WINDOW = 1700\n",
    "\n",
    "records = []\n",
    "\n",
    "for chromosome, sequence in fasta_sequences.items():\n",
    "\n",
    "    # pomijamy dziwne chromosomy\n",
    "    if chromosome not in total_set[\"Chromosome\"].unique():\n",
    "        continue\n",
    "\n",
    "    for idx, pos in enumerate(range(0, len(sequence), WINDOW)):\n",
    "        records.append({\n",
    "            \"Chromosome\": chromosome,\n",
    "            \"idx\": idx+1,\n",
    "            \"startPos\": pos,\n",
    "            \"endPod\": pos + WINDOW,\n",
    "            \"DNA sequence\": str(sequence[pos:pos+WINDOW])\n",
    "        })\n",
    "\n",
    "data = pd.DataFrame(records)\n",
    "\n",
    "# flaga pokazująca czy sekwencja DNA nie zawiera za dużo 'N'\n",
    "data[\"IsValid\"] = (data[\"DNA sequence\"].str.count(\"N\") / data[\"DNA sequence\"].str.len()).le(0.05).astype(int)\n",
    "\n",
    "# usuwamy 'N' z sekwencji, kiedy 'N' jest co najwyżej 5%\n",
    "data.loc[data[\"IsValid\"] == 1, \"DNA sequence\"] = data.loc[data[\"IsValid\"] == 1, \"DNA sequence\"].str.replace(\"N\", \"\")\n",
    "valid_set = data.loc[data[\"IsValid\"] == 1, :]"
   ]
  },
  {
   "attachments": {},
   "cell_type": "markdown",
   "metadata": {},
   "source": [
    "### k-mery"
   ]
  },
  {
   "cell_type": "code",
   "execution_count": 11,
   "metadata": {},
   "outputs": [],
   "source": [
    "# funkcja do zliczenia k-merów w sekwencji DNA\n",
    "# dla całej ramki sett\n",
    "# i do zapisu zliczonych częstości do pliku\n",
    "def count_and_save_kmers(k, sett):\n",
    "\n",
    "    # lista wszystkich k-merów\n",
    "    kmers = [''.join(kmer_tuple) for kmer_tuple in itertools.product('ACTG', repeat=k)]\n",
    "\n",
    "    # funkcja do odwracania k-merów\n",
    "    def reverse_kmer(seq: str):\n",
    "        mapping = {\n",
    "            \"A\": \"T\",\n",
    "            \"T\": \"A\",\n",
    "            \"C\": \"G\",\n",
    "            \"G\": \"C\",\n",
    "        }\n",
    "        return \"\".join([mapping[s] for s in seq[::-1]])\n",
    "\n",
    "    # lista unikalnych k-merów, które (i których odwrócenia) będziemy zliczać\n",
    "    # dla k=4 liczy 136 elementów\n",
    "    unique_kmers = []\n",
    "    for kmer in kmers:\n",
    "        reversed_kmer = reverse_kmer(kmer)\n",
    "        if kmer not in unique_kmers and reversed_kmer not in unique_kmers:\n",
    "            unique_kmers.append(kmer)\n",
    "\n",
    "    # słownik do zliczania k-merów\n",
    "    kmers_counts = {kmer: pd.Series(index=sett.index, data=0) for kmer in unique_kmers}\n",
    "\n",
    "    # zliczamy k-mery\n",
    "    for kmer in tqdm(kmers):\n",
    "        if kmer in unique_kmers:  \n",
    "            kmers_counts[kmer] += sett[\"DNA sequence\"].str.count(kmer)\n",
    "        else:\n",
    "            reversed_kmer = reverse_kmer(kmer)\n",
    "            kmers_counts[reversed_kmer] = sett[\"DNA sequence\"].str.count(kmer)\n",
    "\n",
    "    # łączymy częstości w ramkę danych\n",
    "    kmers_counts_df = pd.concat(kmers_counts, axis=1).round(6)\n",
    "\n",
    "    # dzielimy przez długość sekwencji\n",
    "    kmers_counts_df = kmers_counts_df.div(sett[\"DNA sequence\"].str.len(), axis=0)\n",
    "\n",
    "    # łączymy z pierwotną ramką sett i zapisujemy do pliku \n",
    "    sett_with_kmers = pd.concat([sett, kmers_counts_df], axis=1)\n",
    "    (\n",
    "        sett_with_kmers\n",
    "            .drop(columns=[\"DNA sequence\"])\n",
    "            .to_parquet(f\"data_{k}_mer.gzip\", compression=\"gzip\", index=False)\n",
    "    )"
   ]
  },
  {
   "cell_type": "code",
   "execution_count": 12,
   "metadata": {},
   "outputs": [],
   "source": [
    "# zliczamy częstości k-merów dla kilku wybranych k\n",
    "\n",
    "# count_and_save_kmers(4, valid_set)"
   ]
  },
  {
   "attachments": {},
   "cell_type": "markdown",
   "metadata": {},
   "source": [
    "## Predykcja"
   ]
  },
  {
   "attachments": {},
   "cell_type": "markdown",
   "metadata": {},
   "source": [
    "### Wczytanie modelu"
   ]
  },
  {
   "cell_type": "code",
   "execution_count": 13,
   "metadata": {},
   "outputs": [
    {
     "data": {
      "text/plain": [
       "{'bootstrap': True,\n",
       " 'ccp_alpha': 0.0,\n",
       " 'class_weight': None,\n",
       " 'criterion': 'gini',\n",
       " 'max_depth': 15,\n",
       " 'max_features': 'sqrt',\n",
       " 'max_leaf_nodes': None,\n",
       " 'max_samples': None,\n",
       " 'min_impurity_decrease': 0.0,\n",
       " 'min_samples_leaf': 4,\n",
       " 'min_samples_split': 2,\n",
       " 'min_weight_fraction_leaf': 0.0,\n",
       " 'n_estimators': 100,\n",
       " 'n_jobs': None,\n",
       " 'oob_score': False,\n",
       " 'random_state': None,\n",
       " 'verbose': 0,\n",
       " 'warm_start': False}"
      ]
     },
     "execution_count": 13,
     "metadata": {},
     "output_type": "execute_result"
    }
   ],
   "source": [
    "model = joblib.load(\"model.pkl\")\n",
    "model.get_params()"
   ]
  },
  {
   "attachments": {},
   "cell_type": "markdown",
   "metadata": {},
   "source": [
    "### Predykcja"
   ]
  },
  {
   "cell_type": "code",
   "execution_count": 14,
   "metadata": {},
   "outputs": [],
   "source": [
    "data_4_mer = pd.read_parquet(f\"data_4_mer.gzip\")\n",
    "X = data_4_mer.drop(columns=[\"Chromosome\", \"startPos\", \"endPod\", \"IsValid\"]) # + \"idx\"\n",
    "proba_predicted =  model.predict_proba(X)"
   ]
  },
  {
   "cell_type": "code",
   "execution_count": 15,
   "metadata": {},
   "outputs": [
    {
     "data": {
      "text/plain": [
       "array([0, 1], dtype=int64)"
      ]
     },
     "execution_count": 15,
     "metadata": {},
     "output_type": "execute_result"
    }
   ],
   "source": [
    "# 1 == Enhancer\n",
    "model.classes_"
   ]
  },
  {
   "cell_type": "code",
   "execution_count": 16,
   "metadata": {},
   "outputs": [],
   "source": [
    "# druga kolumna to zatem prawdopodobieństwo bycia enhancerem\n",
    "# przypisujemy do ramki z oknami DNA\n",
    "\n",
    "data.loc[data[\"IsValid\"] == 1, \"EnhancerProbability\"] = proba_predicted[:, 1]"
   ]
  },
  {
   "cell_type": "code",
   "execution_count": 17,
   "metadata": {},
   "outputs": [],
   "source": [
    "# średnia predykcja dla każdego enhancera\n",
    "mean_prediction = data.loc[data[\"IsValid\"] == 1, :].groupby(\"Chromosome\", as_index=False).agg(mean_prediction=(\"EnhancerProbability\", \"mean\"))"
   ]
  },
  {
   "cell_type": "code",
   "execution_count": 18,
   "metadata": {},
   "outputs": [],
   "source": [
    "# dodanie średniej predykcji dla chromosomu do ramki\n",
    "data = pd.merge(data, mean_prediction, on=\"Chromosome\", how=\"inner\")\n",
    "\n",
    "# tam gdzie nie było predykcji z modelu (dużo N) dajemy średnią predykcję\n",
    "data.loc[data[\"IsValid\"] == 0, \"EnhancerProbability\"] = data.loc[data[\"IsValid\"] == 0, \"mean_prediction\"]"
   ]
  },
  {
   "cell_type": "code",
   "execution_count": 20,
   "metadata": {},
   "outputs": [],
   "source": [
    "# zapisanie finalnych danych, które zostaną wstawione do bazy\n",
    "data[\"EnhancerProbability\"] = data[\"EnhancerProbability\"].round(3)\n",
    "data = data.reset_index()\n",
    "data[\"index\"] += 1\n",
    "\n",
    "data.loc[:, [\n",
    "    \"index\",\n",
    "    \"Chromosome\",\n",
    "    \"idx\",\n",
    "    \"startPos\",\n",
    "    \"endPod\",\n",
    "    \"EnhancerProbability\"\n",
    "]].rename(columns={\n",
    "    \"index\": \"id\",\n",
    "    \"Chromosome\": \"chromosome\",\n",
    "    \"idx\": \"window_index\",\n",
    "    \"startPos\": \"start_position\",\n",
    "    \"endPod\": \"end_position\",\n",
    "    \"EnhancerProbability\": \"enhancer_probability\"\n",
    "}).to_parquet(\"final_data_to_database.gzip\", index=False, compression=\"gzip\")"
   ]
  },
  {
   "attachments": {},
   "cell_type": "markdown",
   "metadata": {},
   "source": [
    "## Wstawienie danych do bazy"
   ]
  },
  {
   "cell_type": "code",
   "execution_count": 22,
   "metadata": {},
   "outputs": [],
   "source": [
    "final_data_to_database = pd.read_parquet(\"final_data_to_database.gzip\")"
   ]
  },
  {
   "cell_type": "code",
   "execution_count": 25,
   "metadata": {},
   "outputs": [],
   "source": [
    "import sqlite3\n",
    "conn = sqlite3.connect('C://Users/User/Documents/IiAD/Semestr VI/Warsztaty badawcze 2/wb-django-service/db.sqlite3')\n",
    "final_data_to_database.to_sql(\"service_dnawindow\", conn, if_exists=\"replace\", index=False)\n",
    "conn.close()"
   ]
  }
 ],
 "metadata": {
  "kernelspec": {
   "display_name": "Python 3",
   "language": "python",
   "name": "python3"
  },
  "language_info": {
   "codemirror_mode": {
    "name": "ipython",
    "version": 3
   },
   "file_extension": ".py",
   "mimetype": "text/x-python",
   "name": "python",
   "nbconvert_exporter": "python",
   "pygments_lexer": "ipython3",
   "version": "3.8.8"
  }
 },
 "nbformat": 4,
 "nbformat_minor": 2
}
